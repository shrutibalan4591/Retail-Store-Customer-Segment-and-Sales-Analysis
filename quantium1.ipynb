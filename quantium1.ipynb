{
  "nbformat": 4,
  "nbformat_minor": 0,
  "metadata": {
    "colab": {
      "name": "quantium1.ipynb",
      "provenance": [],
      "collapsed_sections": [
        "U6DKff-nyv70",
        "OMz1CuDSym-P",
        "cWOwrkCZzZdG",
        "iG2CtAoQV1Lp",
        "U4D4mq2lz4-s"
      ],
      "toc_visible": true,
      "mount_file_id": "1ztJUUc9RS3zHMnB0Xa3VcKU3b_Ev_iy4",
      "authorship_tag": "ABX9TyPqbYtub640Vel5KGPriWqM"
    },
    "kernelspec": {
      "display_name": "Python 3",
      "name": "python3"
    }
  },
  "cells": [
    {
      "cell_type": "markdown",
      "metadata": {
        "id": "U6DKff-nyv70"
      },
      "source": [
        "# Importing libraries and reading files"
      ]
    },
    {
      "cell_type": "code",
      "metadata": {
        "id": "BoPfwxUVcJic"
      },
      "source": [
        "# Importing necessary libraries\r\n",
        "import numpy as np\r\n",
        "import pandas as pd\r\n",
        "import matplotlib.pyplot as plt\r\n",
        "%matplotlib inline\r\n",
        "import seaborn as sns\r\n",
        "import datetime\r\n",
        "import nltk\r\n",
        "import re"
      ],
      "execution_count": null,
      "outputs": []
    },
    {
      "cell_type": "code",
      "metadata": {
        "id": "qu0LcWEPeiyo"
      },
      "source": [
        "# Read data from files\r\n",
        "data_t = pd.read_excel('/content/drive/MyDrive/quantium/QVI_transaction_data.xlsx')\r\n",
        "data_p = pd.read_csv('/content/drive/MyDrive/quantium/QVI_purchase_behaviour.csv')"
      ],
      "execution_count": null,
      "outputs": []
    },
    {
      "cell_type": "markdown",
      "metadata": {
        "id": "OMz1CuDSym-P"
      },
      "source": [
        "# Transactions data"
      ]
    },
    {
      "cell_type": "code",
      "metadata": {
        "colab": {
          "base_uri": "https://localhost:8080/",
          "height": 142
        },
        "id": "EDdE1FxOe4hC",
        "outputId": "e904c6b4-7808-45fe-cc2e-041cb50a96cc"
      },
      "source": [
        "data_t.head(3)"
      ],
      "execution_count": null,
      "outputs": [
        {
          "output_type": "execute_result",
          "data": {
            "text/html": [
              "<div>\n",
              "<style scoped>\n",
              "    .dataframe tbody tr th:only-of-type {\n",
              "        vertical-align: middle;\n",
              "    }\n",
              "\n",
              "    .dataframe tbody tr th {\n",
              "        vertical-align: top;\n",
              "    }\n",
              "\n",
              "    .dataframe thead th {\n",
              "        text-align: right;\n",
              "    }\n",
              "</style>\n",
              "<table border=\"1\" class=\"dataframe\">\n",
              "  <thead>\n",
              "    <tr style=\"text-align: right;\">\n",
              "      <th></th>\n",
              "      <th>DATE</th>\n",
              "      <th>STORE_NBR</th>\n",
              "      <th>LYLTY_CARD_NBR</th>\n",
              "      <th>TXN_ID</th>\n",
              "      <th>PROD_NBR</th>\n",
              "      <th>PROD_NAME</th>\n",
              "      <th>PROD_QTY</th>\n",
              "      <th>TOT_SALES</th>\n",
              "    </tr>\n",
              "  </thead>\n",
              "  <tbody>\n",
              "    <tr>\n",
              "      <th>0</th>\n",
              "      <td>43390</td>\n",
              "      <td>1</td>\n",
              "      <td>1000</td>\n",
              "      <td>1</td>\n",
              "      <td>5</td>\n",
              "      <td>Natural Chip        Compny SeaSalt175g</td>\n",
              "      <td>2</td>\n",
              "      <td>6.0</td>\n",
              "    </tr>\n",
              "    <tr>\n",
              "      <th>1</th>\n",
              "      <td>43599</td>\n",
              "      <td>1</td>\n",
              "      <td>1307</td>\n",
              "      <td>348</td>\n",
              "      <td>66</td>\n",
              "      <td>CCs Nacho Cheese    175g</td>\n",
              "      <td>3</td>\n",
              "      <td>6.3</td>\n",
              "    </tr>\n",
              "    <tr>\n",
              "      <th>2</th>\n",
              "      <td>43605</td>\n",
              "      <td>1</td>\n",
              "      <td>1343</td>\n",
              "      <td>383</td>\n",
              "      <td>61</td>\n",
              "      <td>Smiths Crinkle Cut  Chips Chicken 170g</td>\n",
              "      <td>2</td>\n",
              "      <td>2.9</td>\n",
              "    </tr>\n",
              "  </tbody>\n",
              "</table>\n",
              "</div>"
            ],
            "text/plain": [
              "    DATE  STORE_NBR  ...  PROD_QTY  TOT_SALES\n",
              "0  43390          1  ...         2        6.0\n",
              "1  43599          1  ...         3        6.3\n",
              "2  43605          1  ...         2        2.9\n",
              "\n",
              "[3 rows x 8 columns]"
            ]
          },
          "metadata": {
            "tags": []
          },
          "execution_count": 3
        }
      ]
    },
    {
      "cell_type": "code",
      "metadata": {
        "colab": {
          "base_uri": "https://localhost:8080/"
        },
        "id": "4qquJiaErNFx",
        "outputId": "3a34edfc-6fd3-40c0-c7e1-cbf4234b2153"
      },
      "source": [
        "# Find the dimensions of the datasets\r\n",
        "data_t.shape"
      ],
      "execution_count": null,
      "outputs": [
        {
          "output_type": "execute_result",
          "data": {
            "text/plain": [
              "(264836, 8)"
            ]
          },
          "metadata": {
            "tags": []
          },
          "execution_count": 4
        }
      ]
    },
    {
      "cell_type": "code",
      "metadata": {
        "colab": {
          "base_uri": "https://localhost:8080/"
        },
        "id": "NECBCuJ7i7g8",
        "outputId": "f5546666-de34-404e-eb72-bec141027601"
      },
      "source": [
        "# FInd datatypes in datasets\r\n",
        "data_t.dtypes"
      ],
      "execution_count": null,
      "outputs": [
        {
          "output_type": "execute_result",
          "data": {
            "text/plain": [
              "DATE                int64\n",
              "STORE_NBR           int64\n",
              "LYLTY_CARD_NBR      int64\n",
              "TXN_ID              int64\n",
              "PROD_NBR            int64\n",
              "PROD_NAME          object\n",
              "PROD_QTY            int64\n",
              "TOT_SALES         float64\n",
              "dtype: object"
            ]
          },
          "metadata": {
            "tags": []
          },
          "execution_count": 5
        }
      ]
    },
    {
      "cell_type": "code",
      "metadata": {
        "colab": {
          "base_uri": "https://localhost:8080/",
          "height": 142
        },
        "id": "TBheDNSpqnp3",
        "outputId": "222952f1-70f3-4039-b01b-b46e397f5ee1"
      },
      "source": [
        "# change the date datatype to display the correct format of dates\r\n",
        "def convertdate(x):\r\n",
        " serial = x\r\n",
        " seconds = (serial - 25569) * 86400.0\r\n",
        " return datetime.datetime.utcfromtimestamp(seconds)\r\n",
        "\r\n",
        "data_t['DATE'] = data_t['DATE'].apply(lambda x:convertdate(x))\r\n",
        "\r\n",
        "data_t.head(3)"
      ],
      "execution_count": null,
      "outputs": [
        {
          "output_type": "execute_result",
          "data": {
            "text/html": [
              "<div>\n",
              "<style scoped>\n",
              "    .dataframe tbody tr th:only-of-type {\n",
              "        vertical-align: middle;\n",
              "    }\n",
              "\n",
              "    .dataframe tbody tr th {\n",
              "        vertical-align: top;\n",
              "    }\n",
              "\n",
              "    .dataframe thead th {\n",
              "        text-align: right;\n",
              "    }\n",
              "</style>\n",
              "<table border=\"1\" class=\"dataframe\">\n",
              "  <thead>\n",
              "    <tr style=\"text-align: right;\">\n",
              "      <th></th>\n",
              "      <th>DATE</th>\n",
              "      <th>STORE_NBR</th>\n",
              "      <th>LYLTY_CARD_NBR</th>\n",
              "      <th>TXN_ID</th>\n",
              "      <th>PROD_NBR</th>\n",
              "      <th>PROD_NAME</th>\n",
              "      <th>PROD_QTY</th>\n",
              "      <th>TOT_SALES</th>\n",
              "    </tr>\n",
              "  </thead>\n",
              "  <tbody>\n",
              "    <tr>\n",
              "      <th>0</th>\n",
              "      <td>2018-10-17</td>\n",
              "      <td>1</td>\n",
              "      <td>1000</td>\n",
              "      <td>1</td>\n",
              "      <td>5</td>\n",
              "      <td>Natural Chip        Compny SeaSalt175g</td>\n",
              "      <td>2</td>\n",
              "      <td>6.0</td>\n",
              "    </tr>\n",
              "    <tr>\n",
              "      <th>1</th>\n",
              "      <td>2019-05-14</td>\n",
              "      <td>1</td>\n",
              "      <td>1307</td>\n",
              "      <td>348</td>\n",
              "      <td>66</td>\n",
              "      <td>CCs Nacho Cheese    175g</td>\n",
              "      <td>3</td>\n",
              "      <td>6.3</td>\n",
              "    </tr>\n",
              "    <tr>\n",
              "      <th>2</th>\n",
              "      <td>2019-05-20</td>\n",
              "      <td>1</td>\n",
              "      <td>1343</td>\n",
              "      <td>383</td>\n",
              "      <td>61</td>\n",
              "      <td>Smiths Crinkle Cut  Chips Chicken 170g</td>\n",
              "      <td>2</td>\n",
              "      <td>2.9</td>\n",
              "    </tr>\n",
              "  </tbody>\n",
              "</table>\n",
              "</div>"
            ],
            "text/plain": [
              "        DATE  STORE_NBR  ...  PROD_QTY  TOT_SALES\n",
              "0 2018-10-17          1  ...         2        6.0\n",
              "1 2019-05-14          1  ...         3        6.3\n",
              "2 2019-05-20          1  ...         2        2.9\n",
              "\n",
              "[3 rows x 8 columns]"
            ]
          },
          "metadata": {
            "tags": []
          },
          "execution_count": 6
        }
      ]
    },
    {
      "cell_type": "code",
      "metadata": {
        "colab": {
          "base_uri": "https://localhost:8080/"
        },
        "id": "iOrRYQ4_yJdG",
        "outputId": "58dbb40c-7b2a-4958-bc43-85821b4c8661"
      },
      "source": [
        "# Check for null values\r\n",
        "data_t.isnull().sum()"
      ],
      "execution_count": null,
      "outputs": [
        {
          "output_type": "execute_result",
          "data": {
            "text/plain": [
              "DATE              0\n",
              "STORE_NBR         0\n",
              "LYLTY_CARD_NBR    0\n",
              "TXN_ID            0\n",
              "PROD_NBR          0\n",
              "PROD_NAME         0\n",
              "PROD_QTY          0\n",
              "TOT_SALES         0\n",
              "dtype: int64"
            ]
          },
          "metadata": {
            "tags": []
          },
          "execution_count": 7
        }
      ]
    },
    {
      "cell_type": "code",
      "metadata": {
        "colab": {
          "base_uri": "https://localhost:8080/"
        },
        "id": "DyV7oQfry7tm",
        "outputId": "a0f82d3a-ab85-4816-ea7b-112c5511b136"
      },
      "source": [
        "# Check for number of unique values\r\n",
        "data_t.nunique()"
      ],
      "execution_count": null,
      "outputs": [
        {
          "output_type": "execute_result",
          "data": {
            "text/plain": [
              "DATE                 364\n",
              "STORE_NBR            272\n",
              "LYLTY_CARD_NBR     72637\n",
              "TXN_ID            263127\n",
              "PROD_NBR             114\n",
              "PROD_NAME            114\n",
              "PROD_QTY               6\n",
              "TOT_SALES            112\n",
              "dtype: int64"
            ]
          },
          "metadata": {
            "tags": []
          },
          "execution_count": 8
        }
      ]
    },
    {
      "cell_type": "code",
      "metadata": {
        "colab": {
          "base_uri": "https://localhost:8080/"
        },
        "id": "XFmHyg6365Xa",
        "outputId": "a164914e-d82c-4a97-9b23-791f2350f6dc"
      },
      "source": [
        "data_t['TXN_ID'].nunique()"
      ],
      "execution_count": null,
      "outputs": [
        {
          "output_type": "execute_result",
          "data": {
            "text/plain": [
              "263127"
            ]
          },
          "metadata": {
            "tags": []
          },
          "execution_count": 9
        }
      ]
    },
    {
      "cell_type": "markdown",
      "metadata": {
        "id": "0rA71Sl_7AwA"
      },
      "source": [
        "TXN_ID is not unique to each row. This is because there can be sales of chips with different brands in a single transaction."
      ]
    },
    {
      "cell_type": "code",
      "metadata": {
        "colab": {
          "base_uri": "https://localhost:8080/"
        },
        "id": "Aw9CYC-8zJZ7",
        "outputId": "69e01741-38dd-4c79-8866-42f8108260ff"
      },
      "source": [
        "data_t['PROD_QTY'].unique()"
      ],
      "execution_count": null,
      "outputs": [
        {
          "output_type": "execute_result",
          "data": {
            "text/plain": [
              "array([  2,   3,   5,   1,   4, 200])"
            ]
          },
          "metadata": {
            "tags": []
          },
          "execution_count": 10
        }
      ]
    },
    {
      "cell_type": "markdown",
      "metadata": {
        "id": "QtypsoQe1RTm"
      },
      "source": [
        "There seems to be an anomaly in PROD_QTY as there seems to be a sale of 200 packets of chips in single transaction(s). Lets look at those transactions"
      ]
    },
    {
      "cell_type": "code",
      "metadata": {
        "colab": {
          "base_uri": "https://localhost:8080/"
        },
        "id": "Sl5i_Q0L1jfw",
        "outputId": "5a3160a1-f4c7-4a01-a392-7a77c5240ae9"
      },
      "source": [
        "data_t[data_t['PROD_QTY'] == 200].shape"
      ],
      "execution_count": null,
      "outputs": [
        {
          "output_type": "execute_result",
          "data": {
            "text/plain": [
              "(2, 8)"
            ]
          },
          "metadata": {
            "tags": []
          },
          "execution_count": 11
        }
      ]
    },
    {
      "cell_type": "code",
      "metadata": {
        "colab": {
          "base_uri": "https://localhost:8080/",
          "height": 111
        },
        "id": "V3G0-HEs1sEl",
        "outputId": "65d78b73-1908-4721-9b06-531e2f75acb3"
      },
      "source": [
        "data_t[data_t['PROD_QTY'] == 200]"
      ],
      "execution_count": null,
      "outputs": [
        {
          "output_type": "execute_result",
          "data": {
            "text/html": [
              "<div>\n",
              "<style scoped>\n",
              "    .dataframe tbody tr th:only-of-type {\n",
              "        vertical-align: middle;\n",
              "    }\n",
              "\n",
              "    .dataframe tbody tr th {\n",
              "        vertical-align: top;\n",
              "    }\n",
              "\n",
              "    .dataframe thead th {\n",
              "        text-align: right;\n",
              "    }\n",
              "</style>\n",
              "<table border=\"1\" class=\"dataframe\">\n",
              "  <thead>\n",
              "    <tr style=\"text-align: right;\">\n",
              "      <th></th>\n",
              "      <th>DATE</th>\n",
              "      <th>STORE_NBR</th>\n",
              "      <th>LYLTY_CARD_NBR</th>\n",
              "      <th>TXN_ID</th>\n",
              "      <th>PROD_NBR</th>\n",
              "      <th>PROD_NAME</th>\n",
              "      <th>PROD_QTY</th>\n",
              "      <th>TOT_SALES</th>\n",
              "    </tr>\n",
              "  </thead>\n",
              "  <tbody>\n",
              "    <tr>\n",
              "      <th>69762</th>\n",
              "      <td>2018-08-19</td>\n",
              "      <td>226</td>\n",
              "      <td>226000</td>\n",
              "      <td>226201</td>\n",
              "      <td>4</td>\n",
              "      <td>Dorito Corn Chp     Supreme 380g</td>\n",
              "      <td>200</td>\n",
              "      <td>650.0</td>\n",
              "    </tr>\n",
              "    <tr>\n",
              "      <th>69763</th>\n",
              "      <td>2019-05-20</td>\n",
              "      <td>226</td>\n",
              "      <td>226000</td>\n",
              "      <td>226210</td>\n",
              "      <td>4</td>\n",
              "      <td>Dorito Corn Chp     Supreme 380g</td>\n",
              "      <td>200</td>\n",
              "      <td>650.0</td>\n",
              "    </tr>\n",
              "  </tbody>\n",
              "</table>\n",
              "</div>"
            ],
            "text/plain": [
              "            DATE  STORE_NBR  ...  PROD_QTY  TOT_SALES\n",
              "69762 2018-08-19        226  ...       200      650.0\n",
              "69763 2019-05-20        226  ...       200      650.0\n",
              "\n",
              "[2 rows x 8 columns]"
            ]
          },
          "metadata": {
            "tags": []
          },
          "execution_count": 12
        }
      ]
    },
    {
      "cell_type": "markdown",
      "metadata": {
        "id": "ut9hSBsF12br"
      },
      "source": [
        "Both the transactions were done by the same customer, on different days.\r\n",
        "\r\n",
        "Lets look at the other transactions by te same customer"
      ]
    },
    {
      "cell_type": "code",
      "metadata": {
        "colab": {
          "base_uri": "https://localhost:8080/",
          "height": 111
        },
        "id": "GarBmcCO2D2q",
        "outputId": "5cbc9a5b-1f1f-4e96-bf52-25dafad81954"
      },
      "source": [
        "data_t[data_t['LYLTY_CARD_NBR'] == 226000]"
      ],
      "execution_count": null,
      "outputs": [
        {
          "output_type": "execute_result",
          "data": {
            "text/html": [
              "<div>\n",
              "<style scoped>\n",
              "    .dataframe tbody tr th:only-of-type {\n",
              "        vertical-align: middle;\n",
              "    }\n",
              "\n",
              "    .dataframe tbody tr th {\n",
              "        vertical-align: top;\n",
              "    }\n",
              "\n",
              "    .dataframe thead th {\n",
              "        text-align: right;\n",
              "    }\n",
              "</style>\n",
              "<table border=\"1\" class=\"dataframe\">\n",
              "  <thead>\n",
              "    <tr style=\"text-align: right;\">\n",
              "      <th></th>\n",
              "      <th>DATE</th>\n",
              "      <th>STORE_NBR</th>\n",
              "      <th>LYLTY_CARD_NBR</th>\n",
              "      <th>TXN_ID</th>\n",
              "      <th>PROD_NBR</th>\n",
              "      <th>PROD_NAME</th>\n",
              "      <th>PROD_QTY</th>\n",
              "      <th>TOT_SALES</th>\n",
              "    </tr>\n",
              "  </thead>\n",
              "  <tbody>\n",
              "    <tr>\n",
              "      <th>69762</th>\n",
              "      <td>2018-08-19</td>\n",
              "      <td>226</td>\n",
              "      <td>226000</td>\n",
              "      <td>226201</td>\n",
              "      <td>4</td>\n",
              "      <td>Dorito Corn Chp     Supreme 380g</td>\n",
              "      <td>200</td>\n",
              "      <td>650.0</td>\n",
              "    </tr>\n",
              "    <tr>\n",
              "      <th>69763</th>\n",
              "      <td>2019-05-20</td>\n",
              "      <td>226</td>\n",
              "      <td>226000</td>\n",
              "      <td>226210</td>\n",
              "      <td>4</td>\n",
              "      <td>Dorito Corn Chp     Supreme 380g</td>\n",
              "      <td>200</td>\n",
              "      <td>650.0</td>\n",
              "    </tr>\n",
              "  </tbody>\n",
              "</table>\n",
              "</div>"
            ],
            "text/plain": [
              "            DATE  STORE_NBR  ...  PROD_QTY  TOT_SALES\n",
              "69762 2018-08-19        226  ...       200      650.0\n",
              "69763 2019-05-20        226  ...       200      650.0\n",
              "\n",
              "[2 rows x 8 columns]"
            ]
          },
          "metadata": {
            "tags": []
          },
          "execution_count": 13
        }
      ]
    },
    {
      "cell_type": "markdown",
      "metadata": {
        "id": "M4RAEWDS2O0i"
      },
      "source": [
        "It seems that the customer is not a retail buyer as he/she has made a bulk/ wholesale purchase. So lets remove the customer from the dataframe"
      ]
    },
    {
      "cell_type": "code",
      "metadata": {
        "colab": {
          "base_uri": "https://localhost:8080/"
        },
        "id": "m4TVkhW32eIk",
        "outputId": "111646a9-03d9-4e06-eba6-421ee1c651d6"
      },
      "source": [
        "data_t.drop(data_t.loc[data_t['LYLTY_CARD_NBR']==226000].index, inplace=True)\r\n",
        "data_t.shape"
      ],
      "execution_count": null,
      "outputs": [
        {
          "output_type": "execute_result",
          "data": {
            "text/plain": [
              "(264834, 8)"
            ]
          },
          "metadata": {
            "tags": []
          },
          "execution_count": 14
        }
      ]
    },
    {
      "cell_type": "markdown",
      "metadata": {
        "id": "sGB1lVTe3unp"
      },
      "source": [
        "Lets count the number of unique dates and the maximum and minimum dates to check how many days worth of data are provided"
      ]
    },
    {
      "cell_type": "code",
      "metadata": {
        "colab": {
          "base_uri": "https://localhost:8080/"
        },
        "id": "gEhbalQg0jUd",
        "outputId": "4cdc00dc-ec3b-4b5d-aec8-cad961abbcdb"
      },
      "source": [
        "data_t['DATE'].nunique(), data_t['DATE'].min(), data_t['DATE'].max()"
      ],
      "execution_count": null,
      "outputs": [
        {
          "output_type": "execute_result",
          "data": {
            "text/plain": [
              "(364, Timestamp('2018-07-01 00:00:00'), Timestamp('2019-06-30 00:00:00'))"
            ]
          },
          "metadata": {
            "tags": []
          },
          "execution_count": 15
        }
      ]
    },
    {
      "cell_type": "markdown",
      "metadata": {
        "id": "Swsc-M342rBL"
      },
      "source": [
        "It shows that the data has only 364 days' worth of data starting from 1 July 2018 to 30 June 2019, with one missing date.\r\n",
        "\r\n",
        "Lets create a dataframe with dates starting from 1 July 2018 to 30 June 2019, and join it with the data. This will give us an idea of which date's data is missing"
      ]
    },
    {
      "cell_type": "code",
      "metadata": {
        "colab": {
          "base_uri": "https://localhost:8080/",
          "height": 204
        },
        "id": "a4e_TnrP3uPr",
        "outputId": "238386f4-c116-4443-deee-74c79f2782f7"
      },
      "source": [
        "df = pd.DataFrame({'DATE':pd.date_range('2018-07-01', '2019-06-30')}) \r\n",
        "df.head()"
      ],
      "execution_count": null,
      "outputs": [
        {
          "output_type": "execute_result",
          "data": {
            "text/html": [
              "<div>\n",
              "<style scoped>\n",
              "    .dataframe tbody tr th:only-of-type {\n",
              "        vertical-align: middle;\n",
              "    }\n",
              "\n",
              "    .dataframe tbody tr th {\n",
              "        vertical-align: top;\n",
              "    }\n",
              "\n",
              "    .dataframe thead th {\n",
              "        text-align: right;\n",
              "    }\n",
              "</style>\n",
              "<table border=\"1\" class=\"dataframe\">\n",
              "  <thead>\n",
              "    <tr style=\"text-align: right;\">\n",
              "      <th></th>\n",
              "      <th>DATE</th>\n",
              "    </tr>\n",
              "  </thead>\n",
              "  <tbody>\n",
              "    <tr>\n",
              "      <th>0</th>\n",
              "      <td>2018-07-01</td>\n",
              "    </tr>\n",
              "    <tr>\n",
              "      <th>1</th>\n",
              "      <td>2018-07-02</td>\n",
              "    </tr>\n",
              "    <tr>\n",
              "      <th>2</th>\n",
              "      <td>2018-07-03</td>\n",
              "    </tr>\n",
              "    <tr>\n",
              "      <th>3</th>\n",
              "      <td>2018-07-04</td>\n",
              "    </tr>\n",
              "    <tr>\n",
              "      <th>4</th>\n",
              "      <td>2018-07-05</td>\n",
              "    </tr>\n",
              "  </tbody>\n",
              "</table>\n",
              "</div>"
            ],
            "text/plain": [
              "        DATE\n",
              "0 2018-07-01\n",
              "1 2018-07-02\n",
              "2 2018-07-03\n",
              "3 2018-07-04\n",
              "4 2018-07-05"
            ]
          },
          "metadata": {
            "tags": []
          },
          "execution_count": 16
        }
      ]
    },
    {
      "cell_type": "code",
      "metadata": {
        "colab": {
          "base_uri": "https://localhost:8080/",
          "height": 80
        },
        "id": "-HxNX3Y8FI06",
        "outputId": "4122de9c-2652-4a47-8361-b717824e52ea"
      },
      "source": [
        "# Merge df with data_t on DATE and check for the row with missing data\r\n",
        "data_temp = pd.merge(data_t, df, on='DATE', how='outer')\r\n",
        "null_data = data_temp[data_temp.isnull().any(axis=1)]\r\n",
        "null_data"
      ],
      "execution_count": null,
      "outputs": [
        {
          "output_type": "execute_result",
          "data": {
            "text/html": [
              "<div>\n",
              "<style scoped>\n",
              "    .dataframe tbody tr th:only-of-type {\n",
              "        vertical-align: middle;\n",
              "    }\n",
              "\n",
              "    .dataframe tbody tr th {\n",
              "        vertical-align: top;\n",
              "    }\n",
              "\n",
              "    .dataframe thead th {\n",
              "        text-align: right;\n",
              "    }\n",
              "</style>\n",
              "<table border=\"1\" class=\"dataframe\">\n",
              "  <thead>\n",
              "    <tr style=\"text-align: right;\">\n",
              "      <th></th>\n",
              "      <th>DATE</th>\n",
              "      <th>STORE_NBR</th>\n",
              "      <th>LYLTY_CARD_NBR</th>\n",
              "      <th>TXN_ID</th>\n",
              "      <th>PROD_NBR</th>\n",
              "      <th>PROD_NAME</th>\n",
              "      <th>PROD_QTY</th>\n",
              "      <th>TOT_SALES</th>\n",
              "    </tr>\n",
              "  </thead>\n",
              "  <tbody>\n",
              "    <tr>\n",
              "      <th>264834</th>\n",
              "      <td>2018-12-25</td>\n",
              "      <td>NaN</td>\n",
              "      <td>NaN</td>\n",
              "      <td>NaN</td>\n",
              "      <td>NaN</td>\n",
              "      <td>NaN</td>\n",
              "      <td>NaN</td>\n",
              "      <td>NaN</td>\n",
              "    </tr>\n",
              "  </tbody>\n",
              "</table>\n",
              "</div>"
            ],
            "text/plain": [
              "             DATE  STORE_NBR  LYLTY_CARD_NBR  ...  PROD_NAME  PROD_QTY TOT_SALES\n",
              "264834 2018-12-25        NaN             NaN  ...        NaN       NaN       NaN\n",
              "\n",
              "[1 rows x 8 columns]"
            ]
          },
          "metadata": {
            "tags": []
          },
          "execution_count": 17
        }
      ]
    },
    {
      "cell_type": "markdown",
      "metadata": {
        "id": "Wf588FNXGW0w"
      },
      "source": [
        "Since the date coincides with the christmas day, its safe to assume that it was not a working day for the business and hence, no transactions were recorded."
      ]
    },
    {
      "cell_type": "code",
      "metadata": {
        "colab": {
          "base_uri": "https://localhost:8080/",
          "height": 235
        },
        "id": "uOhjMfs88Is4",
        "outputId": "e3fd690f-98c0-4684-97fe-a4bc6354a666"
      },
      "source": [
        "# Create a new dataframe which contains the total sale for each date\r\n",
        "\r\n",
        "a = pd.pivot_table(data_t, values = 'TOT_SALES', index = 'DATE', aggfunc = 'sum')\r\n",
        "a.head()"
      ],
      "execution_count": null,
      "outputs": [
        {
          "output_type": "execute_result",
          "data": {
            "text/html": [
              "<div>\n",
              "<style scoped>\n",
              "    .dataframe tbody tr th:only-of-type {\n",
              "        vertical-align: middle;\n",
              "    }\n",
              "\n",
              "    .dataframe tbody tr th {\n",
              "        vertical-align: top;\n",
              "    }\n",
              "\n",
              "    .dataframe thead th {\n",
              "        text-align: right;\n",
              "    }\n",
              "</style>\n",
              "<table border=\"1\" class=\"dataframe\">\n",
              "  <thead>\n",
              "    <tr style=\"text-align: right;\">\n",
              "      <th></th>\n",
              "      <th>TOT_SALES</th>\n",
              "    </tr>\n",
              "    <tr>\n",
              "      <th>DATE</th>\n",
              "      <th></th>\n",
              "    </tr>\n",
              "  </thead>\n",
              "  <tbody>\n",
              "    <tr>\n",
              "      <th>2018-07-01</th>\n",
              "      <td>5372.2</td>\n",
              "    </tr>\n",
              "    <tr>\n",
              "      <th>2018-07-02</th>\n",
              "      <td>5315.4</td>\n",
              "    </tr>\n",
              "    <tr>\n",
              "      <th>2018-07-03</th>\n",
              "      <td>5321.8</td>\n",
              "    </tr>\n",
              "    <tr>\n",
              "      <th>2018-07-04</th>\n",
              "      <td>5309.9</td>\n",
              "    </tr>\n",
              "    <tr>\n",
              "      <th>2018-07-05</th>\n",
              "      <td>5080.9</td>\n",
              "    </tr>\n",
              "  </tbody>\n",
              "</table>\n",
              "</div>"
            ],
            "text/plain": [
              "            TOT_SALES\n",
              "DATE                 \n",
              "2018-07-01     5372.2\n",
              "2018-07-02     5315.4\n",
              "2018-07-03     5321.8\n",
              "2018-07-04     5309.9\n",
              "2018-07-05     5080.9"
            ]
          },
          "metadata": {
            "tags": []
          },
          "execution_count": 18
        }
      ]
    },
    {
      "cell_type": "code",
      "metadata": {
        "colab": {
          "base_uri": "https://localhost:8080/"
        },
        "id": "NIWYUnqm8hjT",
        "outputId": "0678bced-69a9-427b-b7dc-438ae6439f67"
      },
      "source": [
        "b = pd.DataFrame(index = pd.date_range(start = '2018-07-01', end = '2019-06-30'))\r\n",
        "b['TOT_SALES'] = 0\r\n",
        "len(b)"
      ],
      "execution_count": null,
      "outputs": [
        {
          "output_type": "execute_result",
          "data": {
            "text/plain": [
              "365"
            ]
          },
          "metadata": {
            "tags": []
          },
          "execution_count": 19
        }
      ]
    },
    {
      "cell_type": "code",
      "metadata": {
        "colab": {
          "base_uri": "https://localhost:8080/",
          "height": 204
        },
        "id": "wd89rMBC8nFy",
        "outputId": "1d9df9b7-f6e6-4e5f-af52-d0300afb2914"
      },
      "source": [
        "c = a + b\r\n",
        "c.fillna(0, inplace = True)\r\n",
        "c.head()"
      ],
      "execution_count": null,
      "outputs": [
        {
          "output_type": "execute_result",
          "data": {
            "text/html": [
              "<div>\n",
              "<style scoped>\n",
              "    .dataframe tbody tr th:only-of-type {\n",
              "        vertical-align: middle;\n",
              "    }\n",
              "\n",
              "    .dataframe tbody tr th {\n",
              "        vertical-align: top;\n",
              "    }\n",
              "\n",
              "    .dataframe thead th {\n",
              "        text-align: right;\n",
              "    }\n",
              "</style>\n",
              "<table border=\"1\" class=\"dataframe\">\n",
              "  <thead>\n",
              "    <tr style=\"text-align: right;\">\n",
              "      <th></th>\n",
              "      <th>TOT_SALES</th>\n",
              "    </tr>\n",
              "  </thead>\n",
              "  <tbody>\n",
              "    <tr>\n",
              "      <th>2018-07-01</th>\n",
              "      <td>5372.2</td>\n",
              "    </tr>\n",
              "    <tr>\n",
              "      <th>2018-07-02</th>\n",
              "      <td>5315.4</td>\n",
              "    </tr>\n",
              "    <tr>\n",
              "      <th>2018-07-03</th>\n",
              "      <td>5321.8</td>\n",
              "    </tr>\n",
              "    <tr>\n",
              "      <th>2018-07-04</th>\n",
              "      <td>5309.9</td>\n",
              "    </tr>\n",
              "    <tr>\n",
              "      <th>2018-07-05</th>\n",
              "      <td>5080.9</td>\n",
              "    </tr>\n",
              "  </tbody>\n",
              "</table>\n",
              "</div>"
            ],
            "text/plain": [
              "            TOT_SALES\n",
              "2018-07-01     5372.2\n",
              "2018-07-02     5315.4\n",
              "2018-07-03     5321.8\n",
              "2018-07-04     5309.9\n",
              "2018-07-05     5080.9"
            ]
          },
          "metadata": {
            "tags": []
          },
          "execution_count": 20
        }
      ]
    },
    {
      "cell_type": "code",
      "metadata": {
        "colab": {
          "base_uri": "https://localhost:8080/",
          "height": 235
        },
        "id": "FX7rYDeF8v91",
        "outputId": "eb41d9de-1b79-4c80-f734-3cb2941f2788"
      },
      "source": [
        "c.index.name = 'Date'\r\n",
        "c.rename(columns = {'TOT_SALES': 'Total Sales'}, inplace = True)\r\n",
        "c.head()"
      ],
      "execution_count": null,
      "outputs": [
        {
          "output_type": "execute_result",
          "data": {
            "text/html": [
              "<div>\n",
              "<style scoped>\n",
              "    .dataframe tbody tr th:only-of-type {\n",
              "        vertical-align: middle;\n",
              "    }\n",
              "\n",
              "    .dataframe tbody tr th {\n",
              "        vertical-align: top;\n",
              "    }\n",
              "\n",
              "    .dataframe thead th {\n",
              "        text-align: right;\n",
              "    }\n",
              "</style>\n",
              "<table border=\"1\" class=\"dataframe\">\n",
              "  <thead>\n",
              "    <tr style=\"text-align: right;\">\n",
              "      <th></th>\n",
              "      <th>Total Sales</th>\n",
              "    </tr>\n",
              "    <tr>\n",
              "      <th>Date</th>\n",
              "      <th></th>\n",
              "    </tr>\n",
              "  </thead>\n",
              "  <tbody>\n",
              "    <tr>\n",
              "      <th>2018-07-01</th>\n",
              "      <td>5372.2</td>\n",
              "    </tr>\n",
              "    <tr>\n",
              "      <th>2018-07-02</th>\n",
              "      <td>5315.4</td>\n",
              "    </tr>\n",
              "    <tr>\n",
              "      <th>2018-07-03</th>\n",
              "      <td>5321.8</td>\n",
              "    </tr>\n",
              "    <tr>\n",
              "      <th>2018-07-04</th>\n",
              "      <td>5309.9</td>\n",
              "    </tr>\n",
              "    <tr>\n",
              "      <th>2018-07-05</th>\n",
              "      <td>5080.9</td>\n",
              "    </tr>\n",
              "  </tbody>\n",
              "</table>\n",
              "</div>"
            ],
            "text/plain": [
              "            Total Sales\n",
              "Date                   \n",
              "2018-07-01       5372.2\n",
              "2018-07-02       5315.4\n",
              "2018-07-03       5321.8\n",
              "2018-07-04       5309.9\n",
              "2018-07-05       5080.9"
            ]
          },
          "metadata": {
            "tags": []
          },
          "execution_count": 21
        }
      ]
    },
    {
      "cell_type": "code",
      "metadata": {
        "colab": {
          "base_uri": "https://localhost:8080/",
          "height": 350
        },
        "id": "-P0qMhTh81A6",
        "outputId": "b088d8f6-088d-4c16-ed39-e21fcee22a18"
      },
      "source": [
        "import matplotlib.dates as mdates\r\n",
        "from matplotlib.dates import DateFormatter\r\n",
        "timeline = c.index\r\n",
        "graph = c['Total Sales']\r\n",
        "\r\n",
        "fig, ax = plt.subplots(figsize = (10, 5))\r\n",
        "ax.plot(timeline, graph)\r\n",
        "\r\n",
        "date_form = DateFormatter(\"%Y-%m\")\r\n",
        "ax.xaxis.set_major_formatter(date_form)\r\n",
        "plt.title('Total Sales from July 2018 to June 2019')\r\n",
        "plt.xlabel('Time')\r\n",
        "plt.ylabel('Total Sales')\r\n",
        "\r\n",
        "plt.show()"
      ],
      "execution_count": null,
      "outputs": [
        {
          "output_type": "display_data",
          "data": {
            "image/png": "[encoded data removed]",
            "text/plain": [
              "<Figure size 720x360 with 1 Axes>"
            ]
          },
          "metadata": {
            "tags": [],
            "needs_background": "light"
          }
        }
      ]
    },
    {
      "cell_type": "markdown",
      "metadata": {
        "id": "4x7JGr7H_JgQ"
      },
      "source": [
        "We can see that sales spike up during the December month and zero sale on Christmas Day."
      ]
    },
    {
      "cell_type": "code",
      "metadata": {
        "colab": {
          "base_uri": "https://localhost:8080/",
          "height": 111
        },
        "id": "WaVj7i85_PFS",
        "outputId": "99296cf6-f876-4908-e825-fdce33b5cd2d"
      },
      "source": [
        "# Confirm the date where sales count equals to zero\r\n",
        "c[c['Total Sales'] == 0]"
      ],
      "execution_count": null,
      "outputs": [
        {
          "output_type": "execute_result",
          "data": {
            "text/html": [
              "<div>\n",
              "<style scoped>\n",
              "    .dataframe tbody tr th:only-of-type {\n",
              "        vertical-align: middle;\n",
              "    }\n",
              "\n",
              "    .dataframe tbody tr th {\n",
              "        vertical-align: top;\n",
              "    }\n",
              "\n",
              "    .dataframe thead th {\n",
              "        text-align: right;\n",
              "    }\n",
              "</style>\n",
              "<table border=\"1\" class=\"dataframe\">\n",
              "  <thead>\n",
              "    <tr style=\"text-align: right;\">\n",
              "      <th></th>\n",
              "      <th>Total Sales</th>\n",
              "    </tr>\n",
              "    <tr>\n",
              "      <th>Date</th>\n",
              "      <th></th>\n",
              "    </tr>\n",
              "  </thead>\n",
              "  <tbody>\n",
              "    <tr>\n",
              "      <th>2018-12-25</th>\n",
              "      <td>0.0</td>\n",
              "    </tr>\n",
              "  </tbody>\n",
              "</table>\n",
              "</div>"
            ],
            "text/plain": [
              "            Total Sales\n",
              "Date                   \n",
              "2018-12-25          0.0"
            ]
          },
          "metadata": {
            "tags": []
          },
          "execution_count": 23
        }
      ]
    },
    {
      "cell_type": "code",
      "metadata": {
        "colab": {
          "base_uri": "https://localhost:8080/",
          "height": 235
        },
        "id": "C9WVowgF_VBw",
        "outputId": "2fa09f97-9f5f-40c8-ed59-af92f599f34c"
      },
      "source": [
        "# Let's look at the December month only\r\n",
        "c_december = c[(c.index < \"2019-01-01\") & (c.index > \"2018-11-30\")]\r\n",
        "c_december.head()"
      ],
      "execution_count": null,
      "outputs": [
        {
          "output_type": "execute_result",
          "data": {
            "text/html": [
              "<div>\n",
              "<style scoped>\n",
              "    .dataframe tbody tr th:only-of-type {\n",
              "        vertical-align: middle;\n",
              "    }\n",
              "\n",
              "    .dataframe tbody tr th {\n",
              "        vertical-align: top;\n",
              "    }\n",
              "\n",
              "    .dataframe thead th {\n",
              "        text-align: right;\n",
              "    }\n",
              "</style>\n",
              "<table border=\"1\" class=\"dataframe\">\n",
              "  <thead>\n",
              "    <tr style=\"text-align: right;\">\n",
              "      <th></th>\n",
              "      <th>Total Sales</th>\n",
              "    </tr>\n",
              "    <tr>\n",
              "      <th>Date</th>\n",
              "      <th></th>\n",
              "    </tr>\n",
              "  </thead>\n",
              "  <tbody>\n",
              "    <tr>\n",
              "      <th>2018-12-01</th>\n",
              "      <td>5427.6</td>\n",
              "    </tr>\n",
              "    <tr>\n",
              "      <th>2018-12-02</th>\n",
              "      <td>5108.2</td>\n",
              "    </tr>\n",
              "    <tr>\n",
              "      <th>2018-12-03</th>\n",
              "      <td>5353.3</td>\n",
              "    </tr>\n",
              "    <tr>\n",
              "      <th>2018-12-04</th>\n",
              "      <td>5167.3</td>\n",
              "    </tr>\n",
              "    <tr>\n",
              "      <th>2018-12-05</th>\n",
              "      <td>5268.0</td>\n",
              "    </tr>\n",
              "  </tbody>\n",
              "</table>\n",
              "</div>"
            ],
            "text/plain": [
              "            Total Sales\n",
              "Date                   \n",
              "2018-12-01       5427.6\n",
              "2018-12-02       5108.2\n",
              "2018-12-03       5353.3\n",
              "2018-12-04       5167.3\n",
              "2018-12-05       5268.0"
            ]
          },
          "metadata": {
            "tags": []
          },
          "execution_count": 24
        }
      ]
    },
    {
      "cell_type": "code",
      "metadata": {
        "colab": {
          "base_uri": "https://localhost:8080/",
          "height": 367
        },
        "id": "J7DQUka5_cGd",
        "outputId": "88adce53-87d6-4e36-98f6-f9a41f5dad54"
      },
      "source": [
        "plt.figure(figsize = (15, 5))\r\n",
        "plt.plot(c_december)\r\n",
        "plt.xlabel('Date')\r\n",
        "plt.ylabel('Total Sales')\r\n",
        "plt.title('Total Sales in December')"
      ],
      "execution_count": null,
      "outputs": [
        {
          "output_type": "execute_result",
          "data": {
            "text/plain": [
              "Text(0.5, 1.0, 'Total Sales in December')"
            ]
          },
          "metadata": {
            "tags": []
          },
          "execution_count": 25
        },
        {
          "output_type": "display_data",
          "data": {
            "image/png": "[encoded data removed]",
            "text/plain": [
              "<Figure size 1080x360 with 1 Axes>"
            ]
          },
          "metadata": {
            "tags": [],
            "needs_background": "light"
          }
        }
      ]
    },
    {
      "cell_type": "markdown",
      "metadata": {
        "id": "lVRR6dDYdItt"
      },
      "source": [
        "Lets now create new columns Product_brand and pack_size from PROD_NAME"
      ]
    },
    {
      "cell_type": "code",
      "metadata": {
        "id": "xT5o5o9LJ8SN",
        "colab": {
          "base_uri": "https://localhost:8080/",
          "height": 306
        },
        "outputId": "92a513ba-3447-4c5d-f5ca-a20d551bf751"
      },
      "source": [
        "# Create pack size column\r\n",
        "search = []    \r\n",
        "for values in data_t['PROD_NAME']:\r\n",
        "    search.append(re.search(r'\\d+', values).group())\r\n",
        "\r\n",
        "data_t['Pack-size'] = search\r\n",
        "data_t['Pack-size'] = pd.to_numeric(data_t['Pack-size'])\r\n",
        "\r\n",
        "data_t.head()"
      ],
      "execution_count": null,
      "outputs": [
        {
          "output_type": "execute_result",
          "data": {
            "text/html": [
              "<div>\n",
              "<style scoped>\n",
              "    .dataframe tbody tr th:only-of-type {\n",
              "        vertical-align: middle;\n",
              "    }\n",
              "\n",
              "    .dataframe tbody tr th {\n",
              "        vertical-align: top;\n",
              "    }\n",
              "\n",
              "    .dataframe thead th {\n",
              "        text-align: right;\n",
              "    }\n",
              "</style>\n",
              "<table border=\"1\" class=\"dataframe\">\n",
              "  <thead>\n",
              "    <tr style=\"text-align: right;\">\n",
              "      <th></th>\n",
              "      <th>DATE</th>\n",
              "      <th>STORE_NBR</th>\n",
              "      <th>LYLTY_CARD_NBR</th>\n",
              "      <th>TXN_ID</th>\n",
              "      <th>PROD_NBR</th>\n",
              "      <th>PROD_NAME</th>\n",
              "      <th>PROD_QTY</th>\n",
              "      <th>TOT_SALES</th>\n",
              "      <th>Pack-size</th>\n",
              "    </tr>\n",
              "  </thead>\n",
              "  <tbody>\n",
              "    <tr>\n",
              "      <th>0</th>\n",
              "      <td>2018-10-17</td>\n",
              "      <td>1</td>\n",
              "      <td>1000</td>\n",
              "      <td>1</td>\n",
              "      <td>5</td>\n",
              "      <td>Natural Chip        Compny SeaSalt175g</td>\n",
              "      <td>2</td>\n",
              "      <td>6.0</td>\n",
              "      <td>175</td>\n",
              "    </tr>\n",
              "    <tr>\n",
              "      <th>1</th>\n",
              "      <td>2019-05-14</td>\n",
              "      <td>1</td>\n",
              "      <td>1307</td>\n",
              "      <td>348</td>\n",
              "      <td>66</td>\n",
              "      <td>CCs Nacho Cheese    175g</td>\n",
              "      <td>3</td>\n",
              "      <td>6.3</td>\n",
              "      <td>175</td>\n",
              "    </tr>\n",
              "    <tr>\n",
              "      <th>2</th>\n",
              "      <td>2019-05-20</td>\n",
              "      <td>1</td>\n",
              "      <td>1343</td>\n",
              "      <td>383</td>\n",
              "      <td>61</td>\n",
              "      <td>Smiths Crinkle Cut  Chips Chicken 170g</td>\n",
              "      <td>2</td>\n",
              "      <td>2.9</td>\n",
              "      <td>170</td>\n",
              "    </tr>\n",
              "    <tr>\n",
              "      <th>3</th>\n",
              "      <td>2018-08-17</td>\n",
              "      <td>2</td>\n",
              "      <td>2373</td>\n",
              "      <td>974</td>\n",
              "      <td>69</td>\n",
              "      <td>Smiths Chip Thinly  S/Cream&amp;Onion 175g</td>\n",
              "      <td>5</td>\n",
              "      <td>15.0</td>\n",
              "      <td>175</td>\n",
              "    </tr>\n",
              "    <tr>\n",
              "      <th>4</th>\n",
              "      <td>2018-08-18</td>\n",
              "      <td>2</td>\n",
              "      <td>2426</td>\n",
              "      <td>1038</td>\n",
              "      <td>108</td>\n",
              "      <td>Kettle Tortilla ChpsHny&amp;Jlpno Chili 150g</td>\n",
              "      <td>3</td>\n",
              "      <td>13.8</td>\n",
              "      <td>150</td>\n",
              "    </tr>\n",
              "  </tbody>\n",
              "</table>\n",
              "</div>"
            ],
            "text/plain": [
              "        DATE  STORE_NBR  LYLTY_CARD_NBR  ...  PROD_QTY  TOT_SALES Pack-size\n",
              "0 2018-10-17          1            1000  ...         2        6.0       175\n",
              "1 2019-05-14          1            1307  ...         3        6.3       175\n",
              "2 2019-05-20          1            1343  ...         2        2.9       170\n",
              "3 2018-08-17          2            2373  ...         5       15.0       175\n",
              "4 2018-08-18          2            2426  ...         3       13.8       150\n",
              "\n",
              "[5 rows x 9 columns]"
            ]
          },
          "metadata": {
            "tags": []
          },
          "execution_count": 26
        }
      ]
    },
    {
      "cell_type": "code",
      "metadata": {
        "id": "m4MtGZF1NFHx",
        "colab": {
          "base_uri": "https://localhost:8080/"
        },
        "outputId": "026be2da-66e3-45d5-90f2-711cd9505f81"
      },
      "source": [
        "# Check for the minimum and maximum packet sizes\r\n",
        "print('Minimum pack size:' + str(data_t['Pack-size'].min())), print('Maximum pack size:' + str(data_t['Pack-size'].max()))"
      ],
      "execution_count": null,
      "outputs": [
        {
          "output_type": "stream",
          "text": [
            "Minimum pack size:70\n",
            "Maximum pack size:380\n"
          ],
          "name": "stdout"
        },
        {
          "output_type": "execute_result",
          "data": {
            "text/plain": [
              "(None, None)"
            ]
          },
          "metadata": {
            "tags": []
          },
          "execution_count": 27
        }
      ]
    },
    {
      "cell_type": "code",
      "metadata": {
        "colab": {
          "base_uri": "https://localhost:8080/",
          "height": 372
        },
        "id": "Zw_EXZdwN8pB",
        "outputId": "83c226f2-cb74-4367-ae42-889b186e6204"
      },
      "source": [
        "# Plot transactions based on Pack-size\r\n",
        "sns.set_theme(style=\"darkgrid\")\r\n",
        "plt.figure(figsize=(10,5))\r\n",
        "sns.countplot(x=\"Pack-size\", data=data_t)\r\n",
        "plt.title('Transactions based on Pack-size')"
      ],
      "execution_count": null,
      "outputs": [
        {
          "output_type": "execute_result",
          "data": {
            "text/plain": [
              "Text(0.5, 1.0, 'Transactions based on Pack-size')"
            ]
          },
          "metadata": {
            "tags": []
          },
          "execution_count": 28
        },
        {
          "output_type": "display_data",
          "data": {
            "image/png": "[encoded data removed]",
            "text/plain": [
              "<Figure size 720x360 with 1 Axes>"
            ]
          },
          "metadata": {
            "tags": []
          }
        }
      ]
    },
    {
      "cell_type": "markdown",
      "metadata": {
        "id": "5DzK8ZiuPOOa"
      },
      "source": [
        "We can observe the most number of transactions happened with packet sizes 175g and 150g."
      ]
    },
    {
      "cell_type": "code",
      "metadata": {
        "colab": {
          "base_uri": "https://localhost:8080/",
          "height": 204
        },
        "id": "fywJEmu4MXVZ",
        "outputId": "be095389-195e-4ac3-c2f3-6793c6060492"
      },
      "source": [
        "# Create new column Brand\r\n",
        "data_t['Brand'] = data_t['PROD_NAME'].str.partition(' ')[0]\r\n",
        "data_t.head()"
      ],
      "execution_count": null,
      "outputs": [
        {
          "output_type": "execute_result",
          "data": {
            "text/html": [
              "<div>\n",
              "<style scoped>\n",
              "    .dataframe tbody tr th:only-of-type {\n",
              "        vertical-align: middle;\n",
              "    }\n",
              "\n",
              "    .dataframe tbody tr th {\n",
              "        vertical-align: top;\n",
              "    }\n",
              "\n",
              "    .dataframe thead th {\n",
              "        text-align: right;\n",
              "    }\n",
              "</style>\n",
              "<table border=\"1\" class=\"dataframe\">\n",
              "  <thead>\n",
              "    <tr style=\"text-align: right;\">\n",
              "      <th></th>\n",
              "      <th>DATE</th>\n",
              "      <th>STORE_NBR</th>\n",
              "      <th>LYLTY_CARD_NBR</th>\n",
              "      <th>TXN_ID</th>\n",
              "      <th>PROD_NBR</th>\n",
              "      <th>PROD_NAME</th>\n",
              "      <th>PROD_QTY</th>\n",
              "      <th>TOT_SALES</th>\n",
              "      <th>Pack-size</th>\n",
              "      <th>Brand</th>\n",
              "    </tr>\n",
              "  </thead>\n",
              "  <tbody>\n",
              "    <tr>\n",
              "      <th>0</th>\n",
              "      <td>2018-10-17</td>\n",
              "      <td>1</td>\n",
              "      <td>1000</td>\n",
              "      <td>1</td>\n",
              "      <td>5</td>\n",
              "      <td>Natural Chip        Compny SeaSalt175g</td>\n",
              "      <td>2</td>\n",
              "      <td>6.0</td>\n",
              "      <td>175</td>\n",
              "      <td>Natural</td>\n",
              "    </tr>\n",
              "    <tr>\n",
              "      <th>1</th>\n",
              "      <td>2019-05-14</td>\n",
              "      <td>1</td>\n",
              "      <td>1307</td>\n",
              "      <td>348</td>\n",
              "      <td>66</td>\n",
              "      <td>CCs Nacho Cheese    175g</td>\n",
              "      <td>3</td>\n",
              "      <td>6.3</td>\n",
              "      <td>175</td>\n",
              "      <td>CCs</td>\n",
              "    </tr>\n",
              "    <tr>\n",
              "      <th>2</th>\n",
              "      <td>2019-05-20</td>\n",
              "      <td>1</td>\n",
              "      <td>1343</td>\n",
              "      <td>383</td>\n",
              "      <td>61</td>\n",
              "      <td>Smiths Crinkle Cut  Chips Chicken 170g</td>\n",
              "      <td>2</td>\n",
              "      <td>2.9</td>\n",
              "      <td>170</td>\n",
              "      <td>Smiths</td>\n",
              "    </tr>\n",
              "    <tr>\n",
              "      <th>3</th>\n",
              "      <td>2018-08-17</td>\n",
              "      <td>2</td>\n",
              "      <td>2373</td>\n",
              "      <td>974</td>\n",
              "      <td>69</td>\n",
              "      <td>Smiths Chip Thinly  S/Cream&amp;Onion 175g</td>\n",
              "      <td>5</td>\n",
              "      <td>15.0</td>\n",
              "      <td>175</td>\n",
              "      <td>Smiths</td>\n",
              "    </tr>\n",
              "    <tr>\n",
              "      <th>4</th>\n",
              "      <td>2018-08-18</td>\n",
              "      <td>2</td>\n",
              "      <td>2426</td>\n",
              "      <td>1038</td>\n",
              "      <td>108</td>\n",
              "      <td>Kettle Tortilla ChpsHny&amp;Jlpno Chili 150g</td>\n",
              "      <td>3</td>\n",
              "      <td>13.8</td>\n",
              "      <td>150</td>\n",
              "      <td>Kettle</td>\n",
              "    </tr>\n",
              "  </tbody>\n",
              "</table>\n",
              "</div>"
            ],
            "text/plain": [
              "        DATE  STORE_NBR  LYLTY_CARD_NBR  ...  TOT_SALES  Pack-size    Brand\n",
              "0 2018-10-17          1            1000  ...        6.0        175  Natural\n",
              "1 2019-05-14          1            1307  ...        6.3        175      CCs\n",
              "2 2019-05-20          1            1343  ...        2.9        170   Smiths\n",
              "3 2018-08-17          2            2373  ...       15.0        175   Smiths\n",
              "4 2018-08-18          2            2426  ...       13.8        150   Kettle\n",
              "\n",
              "[5 rows x 10 columns]"
            ]
          },
          "metadata": {
            "tags": []
          },
          "execution_count": 29
        }
      ]
    },
    {
      "cell_type": "code",
      "metadata": {
        "colab": {
          "base_uri": "https://localhost:8080/"
        },
        "id": "f_P3e9DcPyiq",
        "outputId": "c48b7ed4-fafd-45a5-c497-a4729566dbbe"
      },
      "source": [
        "# Check unique values for Brand\r\n",
        "data_t['Brand'].unique()"
      ],
      "execution_count": null,
      "outputs": [
        {
          "output_type": "execute_result",
          "data": {
            "text/plain": [
              "array(['Natural', 'CCs', 'Smiths', 'Kettle', 'Old', 'Grain', 'Doritos',\n",
              "       'Twisties', 'WW', 'Thins', 'Burger', 'NCC', 'Cheezels', 'Infzns',\n",
              "       'Red', 'Pringles', 'Dorito', 'Infuzions', 'Smith', 'GrnWves',\n",
              "       'Tyrrells', 'Cobs', 'Woolworths', 'French', 'RRD', 'Tostitos',\n",
              "       'Cheetos', 'Snbts', 'Sunbites'], dtype=object)"
            ]
          },
          "metadata": {
            "tags": []
          },
          "execution_count": 30
        }
      ]
    },
    {
      "cell_type": "markdown",
      "metadata": {
        "id": "zXe6-H5pRwMY"
      },
      "source": [
        "There seems to be inconsistencies in the brand names. Lets change them"
      ]
    },
    {
      "cell_type": "code",
      "metadata": {
        "colab": {
          "base_uri": "https://localhost:8080/"
        },
        "id": "Jq7tA1kaR5Gh",
        "outputId": "a988983b-9cff-448a-b2be-743103055470"
      },
      "source": [
        "di = {'Dorito':'Doritos', 'Infzns':'Infuzions', 'Smith':'Smiths', 'GrnWves':'Grain', 'WW':'Woolworths', 'RRD':'Red', 'Snbts':'Sunbites', 'NCC':'Natural'}\r\n",
        "data_t.replace({\"Brand\": di}, inplace=True)\r\n",
        "data_t['Brand'].unique()"
      ],
      "execution_count": null,
      "outputs": [
        {
          "output_type": "execute_result",
          "data": {
            "text/plain": [
              "array(['Natural', 'CCs', 'Smiths', 'Kettle', 'Old', 'Grain', 'Doritos',\n",
              "       'Twisties', 'Woolworths', 'Thins', 'Burger', 'Cheezels',\n",
              "       'Infuzions', 'Red', 'Pringles', 'Tyrrells', 'Cobs', 'French',\n",
              "       'Tostitos', 'Cheetos', 'Sunbites'], dtype=object)"
            ]
          },
          "metadata": {
            "tags": []
          },
          "execution_count": 31
        }
      ]
    },
    {
      "cell_type": "markdown",
      "metadata": {
        "id": "cWOwrkCZzZdG"
      },
      "source": [
        "# Purchase Behaviour"
      ]
    },
    {
      "cell_type": "code",
      "metadata": {
        "colab": {
          "base_uri": "https://localhost:8080/",
          "height": 142
        },
        "id": "BmVQN4FDzfhl",
        "outputId": "fc4290da-6ceb-4ae2-f29c-e44959d996da"
      },
      "source": [
        "# Display sample data from purchase behaviour data\r\n",
        "data_p.head(3)"
      ],
      "execution_count": null,
      "outputs": [
        {
          "output_type": "execute_result",
          "data": {
            "text/html": [
              "<div>\n",
              "<style scoped>\n",
              "    .dataframe tbody tr th:only-of-type {\n",
              "        vertical-align: middle;\n",
              "    }\n",
              "\n",
              "    .dataframe tbody tr th {\n",
              "        vertical-align: top;\n",
              "    }\n",
              "\n",
              "    .dataframe thead th {\n",
              "        text-align: right;\n",
              "    }\n",
              "</style>\n",
              "<table border=\"1\" class=\"dataframe\">\n",
              "  <thead>\n",
              "    <tr style=\"text-align: right;\">\n",
              "      <th></th>\n",
              "      <th>LYLTY_CARD_NBR</th>\n",
              "      <th>LIFESTAGE</th>\n",
              "      <th>PREMIUM_CUSTOMER</th>\n",
              "    </tr>\n",
              "  </thead>\n",
              "  <tbody>\n",
              "    <tr>\n",
              "      <th>0</th>\n",
              "      <td>1000</td>\n",
              "      <td>YOUNG SINGLES/COUPLES</td>\n",
              "      <td>Premium</td>\n",
              "    </tr>\n",
              "    <tr>\n",
              "      <th>1</th>\n",
              "      <td>1002</td>\n",
              "      <td>YOUNG SINGLES/COUPLES</td>\n",
              "      <td>Mainstream</td>\n",
              "    </tr>\n",
              "    <tr>\n",
              "      <th>2</th>\n",
              "      <td>1003</td>\n",
              "      <td>YOUNG FAMILIES</td>\n",
              "      <td>Budget</td>\n",
              "    </tr>\n",
              "  </tbody>\n",
              "</table>\n",
              "</div>"
            ],
            "text/plain": [
              "   LYLTY_CARD_NBR              LIFESTAGE PREMIUM_CUSTOMER\n",
              "0            1000  YOUNG SINGLES/COUPLES          Premium\n",
              "1            1002  YOUNG SINGLES/COUPLES       Mainstream\n",
              "2            1003         YOUNG FAMILIES           Budget"
            ]
          },
          "metadata": {
            "tags": []
          },
          "execution_count": 32
        }
      ]
    },
    {
      "cell_type": "code",
      "metadata": {
        "colab": {
          "base_uri": "https://localhost:8080/"
        },
        "id": "Y_GvkXB_zmuM",
        "outputId": "d6d578b6-988d-4826-e511-6b1928e41221"
      },
      "source": [
        "data_p.shape"
      ],
      "execution_count": null,
      "outputs": [
        {
          "output_type": "execute_result",
          "data": {
            "text/plain": [
              "(72637, 3)"
            ]
          },
          "metadata": {
            "tags": []
          },
          "execution_count": 33
        }
      ]
    },
    {
      "cell_type": "code",
      "metadata": {
        "colab": {
          "base_uri": "https://localhost:8080/"
        },
        "id": "4lEXoF102I9p",
        "outputId": "03641052-128c-4b18-a3f6-2b31f0c863bf"
      },
      "source": [
        "data_p.dtypes"
      ],
      "execution_count": null,
      "outputs": [
        {
          "output_type": "execute_result",
          "data": {
            "text/plain": [
              "LYLTY_CARD_NBR       int64\n",
              "LIFESTAGE           object\n",
              "PREMIUM_CUSTOMER    object\n",
              "dtype: object"
            ]
          },
          "metadata": {
            "tags": []
          },
          "execution_count": 34
        }
      ]
    },
    {
      "cell_type": "code",
      "metadata": {
        "colab": {
          "base_uri": "https://localhost:8080/"
        },
        "id": "Is35d0d12VI4",
        "outputId": "bda1daab-d341-4e51-bbc7-7b5292a478d2"
      },
      "source": [
        "# Check for null values\r\n",
        "data_p.isnull().sum()"
      ],
      "execution_count": null,
      "outputs": [
        {
          "output_type": "execute_result",
          "data": {
            "text/plain": [
              "LYLTY_CARD_NBR      0\n",
              "LIFESTAGE           0\n",
              "PREMIUM_CUSTOMER    0\n",
              "dtype: int64"
            ]
          },
          "metadata": {
            "tags": []
          },
          "execution_count": 35
        }
      ]
    },
    {
      "cell_type": "code",
      "metadata": {
        "colab": {
          "base_uri": "https://localhost:8080/"
        },
        "id": "2IiB601R2p70",
        "outputId": "71143d47-696e-497f-98bf-d545bb6b5426"
      },
      "source": [
        "# Number of unique values in dataset\r\n",
        "data_p.nunique()"
      ],
      "execution_count": null,
      "outputs": [
        {
          "output_type": "execute_result",
          "data": {
            "text/plain": [
              "LYLTY_CARD_NBR      72637\n",
              "LIFESTAGE               7\n",
              "PREMIUM_CUSTOMER        3\n",
              "dtype: int64"
            ]
          },
          "metadata": {
            "tags": []
          },
          "execution_count": 36
        }
      ]
    },
    {
      "cell_type": "markdown",
      "metadata": {
        "id": "R-NuyDLIBqcW"
      },
      "source": [
        "Since the number of rows in customerData is equal to number of unique loyalty card number, we conclude that loyalty card numbers are unique to each row."
      ]
    },
    {
      "cell_type": "code",
      "metadata": {
        "colab": {
          "base_uri": "https://localhost:8080/"
        },
        "id": "pih5-IK922Ay",
        "outputId": "3b0a0636-d559-4eae-8e60-5ee6b0f36fa7"
      },
      "source": [
        "data_p['LIFESTAGE'].unique(), data_p['PREMIUM_CUSTOMER'].unique()"
      ],
      "execution_count": null,
      "outputs": [
        {
          "output_type": "execute_result",
          "data": {
            "text/plain": [
              "(array(['YOUNG SINGLES/COUPLES', 'YOUNG FAMILIES', 'OLDER SINGLES/COUPLES',\n",
              "        'MIDAGE SINGLES/COUPLES', 'NEW FAMILIES', 'OLDER FAMILIES',\n",
              "        'RETIREES'], dtype=object),\n",
              " array(['Premium', 'Mainstream', 'Budget'], dtype=object))"
            ]
          },
          "metadata": {
            "tags": []
          },
          "execution_count": 37
        }
      ]
    },
    {
      "cell_type": "code",
      "metadata": {
        "id": "lLYMxNmx3288",
        "colab": {
          "base_uri": "https://localhost:8080/",
          "height": 372
        },
        "outputId": "6f28afeb-d42a-4549-ac84-5b855ba98a7a"
      },
      "source": [
        "# Countplot on Lifestage and Premium_Customer\r\n",
        "sns.set_theme(style=\"darkgrid\")\r\n",
        "plt.figure(figsize=(20,5))\r\n",
        "sns.countplot(x=\"LIFESTAGE\", data=data_p, dodge=False)\r\n",
        "plt.title('Number of customers in each LIFESTAGEs')"
      ],
      "execution_count": null,
      "outputs": [
        {
          "output_type": "execute_result",
          "data": {
            "text/plain": [
              "Text(0.5, 1.0, 'Number of customers in each LIFESTAGEs')"
            ]
          },
          "metadata": {
            "tags": []
          },
          "execution_count": 38
        },
        {
          "output_type": "display_data",
          "data": {
            "image/png": "[encoded data removed]",
            "text/plain": [
              "<Figure size 1440x360 with 1 Axes>"
            ]
          },
          "metadata": {
            "tags": []
          }
        }
      ]
    },
    {
      "cell_type": "code",
      "metadata": {
        "colab": {
          "base_uri": "https://localhost:8080/",
          "height": 372
        },
        "id": "yqDmfNUGUe_p",
        "outputId": "63e4a23e-4a87-426f-e1d4-15c8a62b9692"
      },
      "source": [
        "sns.set_theme(style=\"darkgrid\")\r\n",
        "plt.figure(figsize=(7,5))\r\n",
        "sns.countplot(x=\"PREMIUM_CUSTOMER\", data=data_p, dodge=False)\r\n",
        "plt.title('Number of customers in each PREMIUM types')"
      ],
      "execution_count": null,
      "outputs": [
        {
          "output_type": "execute_result",
          "data": {
            "text/plain": [
              "Text(0.5, 1.0, 'Number of customers in each PREMIUM types')"
            ]
          },
          "metadata": {
            "tags": []
          },
          "execution_count": 39
        },
        {
          "output_type": "display_data",
          "data": {
            "image/png": "[encoded data removed]",
            "text/plain": [
              "<Figure size 504x360 with 1 Axes>"
            ]
          },
          "metadata": {
            "tags": []
          }
        }
      ]
    },
    {
      "cell_type": "code",
      "metadata": {
        "colab": {
          "base_uri": "https://localhost:8080/",
          "height": 496
        },
        "id": "DSOhwnkAW8cJ",
        "outputId": "5b7b7ce6-26b7-47ad-9b2f-ee084e5915b6"
      },
      "source": [
        "plt.figure(figsize=(25,5))\r\n",
        "a = sns.catplot(x=\"LIFESTAGE\", col=\"PREMIUM_CUSTOMER\",\r\n",
        "                data=data_p, kind=\"count\")\r\n",
        "a.set_xticklabels(rotation=90)"
      ],
      "execution_count": null,
      "outputs": [
        {
          "output_type": "execute_result",
          "data": {
            "text/plain": [
              "<seaborn.axisgrid.FacetGrid at 0x7f44a393f668>"
            ]
          },
          "metadata": {
            "tags": []
          },
          "execution_count": 40
        },
        {
          "output_type": "display_data",
          "data": {
            "text/plain": [
              "<Figure size 1800x360 with 0 Axes>"
            ]
          },
          "metadata": {
            "tags": []
          }
        },
        {
          "output_type": "display_data",
          "data": {
            "image/png": "[encoded data removed]",
            "text/plain": [
              "<Figure size 1080x360 with 3 Axes>"
            ]
          },
          "metadata": {
            "tags": []
          }
        }
      ]
    },
    {
      "cell_type": "markdown",
      "metadata": {
        "id": "iG2CtAoQV1Lp"
      },
      "source": [
        "# Merge datasets"
      ]
    },
    {
      "cell_type": "code",
      "metadata": {
        "colab": {
          "base_uri": "https://localhost:8080/"
        },
        "id": "HOXGZVW-V5lo",
        "outputId": "c0be51e3-eeae-4337-9008-86888b37dc47"
      },
      "source": [
        "# Merge the 2 dataframes\r\n",
        "data_new = data_t.merge(data_p, on='LYLTY_CARD_NBR', how='left')\r\n",
        "data_new.isnull().sum()"
      ],
      "execution_count": null,
      "outputs": [
        {
          "output_type": "execute_result",
          "data": {
            "text/plain": [
              "DATE                0\n",
              "STORE_NBR           0\n",
              "LYLTY_CARD_NBR      0\n",
              "TXN_ID              0\n",
              "PROD_NBR            0\n",
              "PROD_NAME           0\n",
              "PROD_QTY            0\n",
              "TOT_SALES           0\n",
              "Pack-size           0\n",
              "Brand               0\n",
              "LIFESTAGE           0\n",
              "PREMIUM_CUSTOMER    0\n",
              "dtype: int64"
            ]
          },
          "metadata": {
            "tags": []
          },
          "execution_count": 41
        }
      ]
    },
    {
      "cell_type": "code",
      "metadata": {
        "colab": {
          "base_uri": "https://localhost:8080/"
        },
        "id": "1LNR9yi2CZm0",
        "outputId": "06a1c53d-8e32-449e-82f1-b951d235bdb8"
      },
      "source": [
        "data_new.shape"
      ],
      "execution_count": null,
      "outputs": [
        {
          "output_type": "execute_result",
          "data": {
            "text/plain": [
              "(264834, 12)"
            ]
          },
          "metadata": {
            "tags": []
          },
          "execution_count": 42
        }
      ]
    },
    {
      "cell_type": "code",
      "metadata": {
        "colab": {
          "base_uri": "https://localhost:8080/",
          "height": 306
        },
        "id": "bUtsPsM1Znca",
        "outputId": "4699fa17-996d-46ae-925a-a916fd30e844"
      },
      "source": [
        "data_new.head()"
      ],
      "execution_count": null,
      "outputs": [
        {
          "output_type": "execute_result",
          "data": {
            "text/html": [
              "<div>\n",
              "<style scoped>\n",
              "    .dataframe tbody tr th:only-of-type {\n",
              "        vertical-align: middle;\n",
              "    }\n",
              "\n",
              "    .dataframe tbody tr th {\n",
              "        vertical-align: top;\n",
              "    }\n",
              "\n",
              "    .dataframe thead th {\n",
              "        text-align: right;\n",
              "    }\n",
              "</style>\n",
              "<table border=\"1\" class=\"dataframe\">\n",
              "  <thead>\n",
              "    <tr style=\"text-align: right;\">\n",
              "      <th></th>\n",
              "      <th>DATE</th>\n",
              "      <th>STORE_NBR</th>\n",
              "      <th>LYLTY_CARD_NBR</th>\n",
              "      <th>TXN_ID</th>\n",
              "      <th>PROD_NBR</th>\n",
              "      <th>PROD_NAME</th>\n",
              "      <th>PROD_QTY</th>\n",
              "      <th>TOT_SALES</th>\n",
              "      <th>Pack-size</th>\n",
              "      <th>Brand</th>\n",
              "      <th>LIFESTAGE</th>\n",
              "      <th>PREMIUM_CUSTOMER</th>\n",
              "    </tr>\n",
              "  </thead>\n",
              "  <tbody>\n",
              "    <tr>\n",
              "      <th>0</th>\n",
              "      <td>2018-10-17</td>\n",
              "      <td>1</td>\n",
              "      <td>1000</td>\n",
              "      <td>1</td>\n",
              "      <td>5</td>\n",
              "      <td>Natural Chip        Compny SeaSalt175g</td>\n",
              "      <td>2</td>\n",
              "      <td>6.0</td>\n",
              "      <td>175</td>\n",
              "      <td>Natural</td>\n",
              "      <td>YOUNG SINGLES/COUPLES</td>\n",
              "      <td>Premium</td>\n",
              "    </tr>\n",
              "    <tr>\n",
              "      <th>1</th>\n",
              "      <td>2019-05-14</td>\n",
              "      <td>1</td>\n",
              "      <td>1307</td>\n",
              "      <td>348</td>\n",
              "      <td>66</td>\n",
              "      <td>CCs Nacho Cheese    175g</td>\n",
              "      <td>3</td>\n",
              "      <td>6.3</td>\n",
              "      <td>175</td>\n",
              "      <td>CCs</td>\n",
              "      <td>MIDAGE SINGLES/COUPLES</td>\n",
              "      <td>Budget</td>\n",
              "    </tr>\n",
              "    <tr>\n",
              "      <th>2</th>\n",
              "      <td>2019-05-20</td>\n",
              "      <td>1</td>\n",
              "      <td>1343</td>\n",
              "      <td>383</td>\n",
              "      <td>61</td>\n",
              "      <td>Smiths Crinkle Cut  Chips Chicken 170g</td>\n",
              "      <td>2</td>\n",
              "      <td>2.9</td>\n",
              "      <td>170</td>\n",
              "      <td>Smiths</td>\n",
              "      <td>MIDAGE SINGLES/COUPLES</td>\n",
              "      <td>Budget</td>\n",
              "    </tr>\n",
              "    <tr>\n",
              "      <th>3</th>\n",
              "      <td>2018-08-17</td>\n",
              "      <td>2</td>\n",
              "      <td>2373</td>\n",
              "      <td>974</td>\n",
              "      <td>69</td>\n",
              "      <td>Smiths Chip Thinly  S/Cream&amp;Onion 175g</td>\n",
              "      <td>5</td>\n",
              "      <td>15.0</td>\n",
              "      <td>175</td>\n",
              "      <td>Smiths</td>\n",
              "      <td>MIDAGE SINGLES/COUPLES</td>\n",
              "      <td>Budget</td>\n",
              "    </tr>\n",
              "    <tr>\n",
              "      <th>4</th>\n",
              "      <td>2018-08-18</td>\n",
              "      <td>2</td>\n",
              "      <td>2426</td>\n",
              "      <td>1038</td>\n",
              "      <td>108</td>\n",
              "      <td>Kettle Tortilla ChpsHny&amp;Jlpno Chili 150g</td>\n",
              "      <td>3</td>\n",
              "      <td>13.8</td>\n",
              "      <td>150</td>\n",
              "      <td>Kettle</td>\n",
              "      <td>MIDAGE SINGLES/COUPLES</td>\n",
              "      <td>Budget</td>\n",
              "    </tr>\n",
              "  </tbody>\n",
              "</table>\n",
              "</div>"
            ],
            "text/plain": [
              "        DATE  STORE_NBR  ...               LIFESTAGE  PREMIUM_CUSTOMER\n",
              "0 2018-10-17          1  ...   YOUNG SINGLES/COUPLES           Premium\n",
              "1 2019-05-14          1  ...  MIDAGE SINGLES/COUPLES            Budget\n",
              "2 2019-05-20          1  ...  MIDAGE SINGLES/COUPLES            Budget\n",
              "3 2018-08-17          2  ...  MIDAGE SINGLES/COUPLES            Budget\n",
              "4 2018-08-18          2  ...  MIDAGE SINGLES/COUPLES            Budget\n",
              "\n",
              "[5 rows x 12 columns]"
            ]
          },
          "metadata": {
            "tags": []
          },
          "execution_count": 43
        }
      ]
    },
    {
      "cell_type": "markdown",
      "metadata": {
        "id": "U4D4mq2lz4-s"
      },
      "source": [
        "# Export to excel\r\n"
      ]
    },
    {
      "cell_type": "code",
      "metadata": {
        "id": "CuI_OzARZx6u"
      },
      "source": [
        "writer = pd.ExcelWriter('quantium_clean.xlsx')\r\n",
        "\r\n",
        "# Write each dataframe to a different worksheet.\r\n",
        "data_new.to_excel(writer, sheet_name='Merged')\r\n",
        "\r\n",
        "# Close the Pandas Excel writer and output the Excel file.\r\n",
        "writer.save()"
      ],
      "execution_count": null,
      "outputs": []
    },
    {
      "cell_type": "markdown",
      "metadata": {
        "id": "OqSrj_bG2PWZ"
      },
      "source": [
        "# Data Analysis"
      ]
    },
    {
      "cell_type": "markdown",
      "metadata": {
        "id": "WzfTizGOZhlC"
      },
      "source": [
        "Lets check who spends the most on chips (total sales), describing customers by lifestage and how premium their general purchasing behaviour is.\r\n"
      ]
    },
    {
      "cell_type": "code",
      "metadata": {
        "colab": {
          "base_uri": "https://localhost:8080/",
          "height": 731
        },
        "id": "P0bTTr62DCvg",
        "outputId": "1814727b-02a7-4bc9-fd91-c9f12bcfc9a5"
      },
      "source": [
        "# Total sales by PREMIUM_CUSTOMER and LIFESTAGE\r\n",
        "sales = pd.DataFrame(data_new.groupby(['PREMIUM_CUSTOMER', 'LIFESTAGE']).TOT_SALES.sum())\r\n",
        "sales.rename(columns = {'TOT_SALES': 'Total Sales'}, inplace = True)\r\n",
        "sales.sort_values(by = 'Total Sales', ascending = False, inplace = True)\r\n",
        "sales"
      ],
      "execution_count": null,
      "outputs": [
        {
          "output_type": "execute_result",
          "data": {
            "text/html": [
              "<div>\n",
              "<style scoped>\n",
              "    .dataframe tbody tr th:only-of-type {\n",
              "        vertical-align: middle;\n",
              "    }\n",
              "\n",
              "    .dataframe tbody tr th {\n",
              "        vertical-align: top;\n",
              "    }\n",
              "\n",
              "    .dataframe thead th {\n",
              "        text-align: right;\n",
              "    }\n",
              "</style>\n",
              "<table border=\"1\" class=\"dataframe\">\n",
              "  <thead>\n",
              "    <tr style=\"text-align: right;\">\n",
              "      <th></th>\n",
              "      <th></th>\n",
              "      <th>Total Sales</th>\n",
              "    </tr>\n",
              "    <tr>\n",
              "      <th>PREMIUM_CUSTOMER</th>\n",
              "      <th>LIFESTAGE</th>\n",
              "      <th></th>\n",
              "    </tr>\n",
              "  </thead>\n",
              "  <tbody>\n",
              "    <tr>\n",
              "      <th>Budget</th>\n",
              "      <th>OLDER FAMILIES</th>\n",
              "      <td>168363.25</td>\n",
              "    </tr>\n",
              "    <tr>\n",
              "      <th rowspan=\"2\" valign=\"top\">Mainstream</th>\n",
              "      <th>YOUNG SINGLES/COUPLES</th>\n",
              "      <td>157621.60</td>\n",
              "    </tr>\n",
              "    <tr>\n",
              "      <th>RETIREES</th>\n",
              "      <td>155677.05</td>\n",
              "    </tr>\n",
              "    <tr>\n",
              "      <th rowspan=\"2\" valign=\"top\">Budget</th>\n",
              "      <th>YOUNG FAMILIES</th>\n",
              "      <td>139345.85</td>\n",
              "    </tr>\n",
              "    <tr>\n",
              "      <th>OLDER SINGLES/COUPLES</th>\n",
              "      <td>136769.80</td>\n",
              "    </tr>\n",
              "    <tr>\n",
              "      <th>Mainstream</th>\n",
              "      <th>OLDER SINGLES/COUPLES</th>\n",
              "      <td>133393.80</td>\n",
              "    </tr>\n",
              "    <tr>\n",
              "      <th>Premium</th>\n",
              "      <th>OLDER SINGLES/COUPLES</th>\n",
              "      <td>132263.15</td>\n",
              "    </tr>\n",
              "    <tr>\n",
              "      <th>Budget</th>\n",
              "      <th>RETIREES</th>\n",
              "      <td>113147.80</td>\n",
              "    </tr>\n",
              "    <tr>\n",
              "      <th>Mainstream</th>\n",
              "      <th>OLDER FAMILIES</th>\n",
              "      <td>103445.55</td>\n",
              "    </tr>\n",
              "    <tr>\n",
              "      <th>Premium</th>\n",
              "      <th>RETIREES</th>\n",
              "      <td>97646.05</td>\n",
              "    </tr>\n",
              "    <tr>\n",
              "      <th rowspan=\"2\" valign=\"top\">Mainstream</th>\n",
              "      <th>YOUNG FAMILIES</th>\n",
              "      <td>92788.75</td>\n",
              "    </tr>\n",
              "    <tr>\n",
              "      <th>MIDAGE SINGLES/COUPLES</th>\n",
              "      <td>90803.85</td>\n",
              "    </tr>\n",
              "    <tr>\n",
              "      <th rowspan=\"2\" valign=\"top\">Premium</th>\n",
              "      <th>YOUNG FAMILIES</th>\n",
              "      <td>84025.50</td>\n",
              "    </tr>\n",
              "    <tr>\n",
              "      <th>OLDER FAMILIES</th>\n",
              "      <td>80658.40</td>\n",
              "    </tr>\n",
              "    <tr>\n",
              "      <th>Budget</th>\n",
              "      <th>YOUNG SINGLES/COUPLES</th>\n",
              "      <td>61141.60</td>\n",
              "    </tr>\n",
              "    <tr>\n",
              "      <th rowspan=\"2\" valign=\"top\">Premium</th>\n",
              "      <th>MIDAGE SINGLES/COUPLES</th>\n",
              "      <td>58432.65</td>\n",
              "    </tr>\n",
              "    <tr>\n",
              "      <th>YOUNG SINGLES/COUPLES</th>\n",
              "      <td>41642.10</td>\n",
              "    </tr>\n",
              "    <tr>\n",
              "      <th rowspan=\"2\" valign=\"top\">Budget</th>\n",
              "      <th>MIDAGE SINGLES/COUPLES</th>\n",
              "      <td>35514.80</td>\n",
              "    </tr>\n",
              "    <tr>\n",
              "      <th>NEW FAMILIES</th>\n",
              "      <td>21928.45</td>\n",
              "    </tr>\n",
              "    <tr>\n",
              "      <th>Mainstream</th>\n",
              "      <th>NEW FAMILIES</th>\n",
              "      <td>17013.90</td>\n",
              "    </tr>\n",
              "    <tr>\n",
              "      <th>Premium</th>\n",
              "      <th>NEW FAMILIES</th>\n",
              "      <td>11491.10</td>\n",
              "    </tr>\n",
              "  </tbody>\n",
              "</table>\n",
              "</div>"
            ],
            "text/plain": [
              "                                         Total Sales\n",
              "PREMIUM_CUSTOMER LIFESTAGE                          \n",
              "Budget           OLDER FAMILIES            168363.25\n",
              "Mainstream       YOUNG SINGLES/COUPLES     157621.60\n",
              "                 RETIREES                  155677.05\n",
              "Budget           YOUNG FAMILIES            139345.85\n",
              "                 OLDER SINGLES/COUPLES     136769.80\n",
              "Mainstream       OLDER SINGLES/COUPLES     133393.80\n",
              "Premium          OLDER SINGLES/COUPLES     132263.15\n",
              "Budget           RETIREES                  113147.80\n",
              "Mainstream       OLDER FAMILIES            103445.55\n",
              "Premium          RETIREES                   97646.05\n",
              "Mainstream       YOUNG FAMILIES             92788.75\n",
              "                 MIDAGE SINGLES/COUPLES     90803.85\n",
              "Premium          YOUNG FAMILIES             84025.50\n",
              "                 OLDER FAMILIES             80658.40\n",
              "Budget           YOUNG SINGLES/COUPLES      61141.60\n",
              "Premium          MIDAGE SINGLES/COUPLES     58432.65\n",
              "                 YOUNG SINGLES/COUPLES      41642.10\n",
              "Budget           MIDAGE SINGLES/COUPLES     35514.80\n",
              "                 NEW FAMILIES               21928.45\n",
              "Mainstream       NEW FAMILIES               17013.90\n",
              "Premium          NEW FAMILIES               11491.10"
            ]
          },
          "metadata": {
            "tags": []
          },
          "execution_count": 44
        }
      ]
    },
    {
      "cell_type": "code",
      "metadata": {
        "colab": {
          "base_uri": "https://localhost:8080/",
          "height": 620
        },
        "id": "Cs-0GCaNDPAE",
        "outputId": "516e6639-73d0-4bb7-eace-917f49d68ae3"
      },
      "source": [
        "# Visualise\r\n",
        "salesPlot = pd.DataFrame(data_new.groupby(['LIFESTAGE', 'PREMIUM_CUSTOMER']).TOT_SALES.sum())\r\n",
        "salesPlot.unstack().plot(kind = 'bar', stacked = True, figsize = (12, 7), title = 'Total Sales by Customer Segment')\r\n",
        "plt.ylabel('Total Sales')\r\n",
        "plt.legend(['Budget', 'Mainstream', 'Premium'], loc = 2)"
      ],
      "execution_count": null,
      "outputs": [
        {
          "output_type": "execute_result",
          "data": {
            "text/plain": [
              "<matplotlib.legend.Legend at 0x7f44a4807048>"
            ]
          },
          "metadata": {
            "tags": []
          },
          "execution_count": 45
        },
        {
          "output_type": "display_data",
          "data": {
            "image/png": "[encoded data removed]",
            "text/plain": [
              "<Figure size 864x504 with 1 Axes>"
            ]
          },
          "metadata": {
            "tags": []
          }
        }
      ]
    },
    {
      "cell_type": "markdown",
      "metadata": {
        "id": "E_nk_M0qD-Q5"
      },
      "source": [
        "Top sales come from budget older families, mainstream young singles/couples and mainstream retirees."
      ]
    },
    {
      "cell_type": "code",
      "metadata": {
        "colab": {
          "base_uri": "https://localhost:8080/",
          "height": 390
        },
        "id": "UGHewdBaD9ui",
        "outputId": "d3c92343-f880-4c6d-b8a2-b8630374416f"
      },
      "source": [
        "# Number of customers by PREMIUM_CUSTOMER and LIFESTAGE\r\n",
        "customers = pd.DataFrame(data_new.groupby(['PREMIUM_CUSTOMER', 'LIFESTAGE']).LYLTY_CARD_NBR.nunique())\r\n",
        "customers.rename(columns = {'LYLTY_CARD_NBR': 'Number of Customers'}, inplace = True)\r\n",
        "customers.sort_values(by = 'Number of Customers', ascending = False).head(10)"
      ],
      "execution_count": null,
      "outputs": [
        {
          "output_type": "execute_result",
          "data": {
            "text/html": [
              "<div>\n",
              "<style scoped>\n",
              "    .dataframe tbody tr th:only-of-type {\n",
              "        vertical-align: middle;\n",
              "    }\n",
              "\n",
              "    .dataframe tbody tr th {\n",
              "        vertical-align: top;\n",
              "    }\n",
              "\n",
              "    .dataframe thead th {\n",
              "        text-align: right;\n",
              "    }\n",
              "</style>\n",
              "<table border=\"1\" class=\"dataframe\">\n",
              "  <thead>\n",
              "    <tr style=\"text-align: right;\">\n",
              "      <th></th>\n",
              "      <th></th>\n",
              "      <th>Number of Customers</th>\n",
              "    </tr>\n",
              "    <tr>\n",
              "      <th>PREMIUM_CUSTOMER</th>\n",
              "      <th>LIFESTAGE</th>\n",
              "      <th></th>\n",
              "    </tr>\n",
              "  </thead>\n",
              "  <tbody>\n",
              "    <tr>\n",
              "      <th rowspan=\"3\" valign=\"top\">Mainstream</th>\n",
              "      <th>YOUNG SINGLES/COUPLES</th>\n",
              "      <td>8088</td>\n",
              "    </tr>\n",
              "    <tr>\n",
              "      <th>RETIREES</th>\n",
              "      <td>6479</td>\n",
              "    </tr>\n",
              "    <tr>\n",
              "      <th>OLDER SINGLES/COUPLES</th>\n",
              "      <td>4930</td>\n",
              "    </tr>\n",
              "    <tr>\n",
              "      <th>Budget</th>\n",
              "      <th>OLDER SINGLES/COUPLES</th>\n",
              "      <td>4929</td>\n",
              "    </tr>\n",
              "    <tr>\n",
              "      <th>Premium</th>\n",
              "      <th>OLDER SINGLES/COUPLES</th>\n",
              "      <td>4750</td>\n",
              "    </tr>\n",
              "    <tr>\n",
              "      <th rowspan=\"3\" valign=\"top\">Budget</th>\n",
              "      <th>OLDER FAMILIES</th>\n",
              "      <td>4675</td>\n",
              "    </tr>\n",
              "    <tr>\n",
              "      <th>RETIREES</th>\n",
              "      <td>4454</td>\n",
              "    </tr>\n",
              "    <tr>\n",
              "      <th>YOUNG FAMILIES</th>\n",
              "      <td>4017</td>\n",
              "    </tr>\n",
              "    <tr>\n",
              "      <th>Premium</th>\n",
              "      <th>RETIREES</th>\n",
              "      <td>3872</td>\n",
              "    </tr>\n",
              "    <tr>\n",
              "      <th>Budget</th>\n",
              "      <th>YOUNG SINGLES/COUPLES</th>\n",
              "      <td>3779</td>\n",
              "    </tr>\n",
              "  </tbody>\n",
              "</table>\n",
              "</div>"
            ],
            "text/plain": [
              "                                        Number of Customers\n",
              "PREMIUM_CUSTOMER LIFESTAGE                                 \n",
              "Mainstream       YOUNG SINGLES/COUPLES                 8088\n",
              "                 RETIREES                              6479\n",
              "                 OLDER SINGLES/COUPLES                 4930\n",
              "Budget           OLDER SINGLES/COUPLES                 4929\n",
              "Premium          OLDER SINGLES/COUPLES                 4750\n",
              "Budget           OLDER FAMILIES                        4675\n",
              "                 RETIREES                              4454\n",
              "                 YOUNG FAMILIES                        4017\n",
              "Premium          RETIREES                              3872\n",
              "Budget           YOUNG SINGLES/COUPLES                 3779"
            ]
          },
          "metadata": {
            "tags": []
          },
          "execution_count": 46
        }
      ]
    },
    {
      "cell_type": "code",
      "metadata": {
        "colab": {
          "base_uri": "https://localhost:8080/",
          "height": 620
        },
        "id": "QzXALbbgERRM",
        "outputId": "cf955c76-d770-493e-cb1a-ff2db345baed"
      },
      "source": [
        "customersPlot = pd.DataFrame(data_new.groupby(['LIFESTAGE', 'PREMIUM_CUSTOMER']).LYLTY_CARD_NBR.nunique())\r\n",
        "customersPlot.unstack().plot(kind = 'bar', stacked = True, figsize = (12, 7), title = 'Number of Customers by Customer Segment')\r\n",
        "plt.ylabel('Number of Customers')\r\n",
        "plt.legend(['Budget', 'Mainstream', 'Premium'], loc = 2)"
      ],
      "execution_count": null,
      "outputs": [
        {
          "output_type": "execute_result",
          "data": {
            "text/plain": [
              "<matplotlib.legend.Legend at 0x7f449ea13400>"
            ]
          },
          "metadata": {
            "tags": []
          },
          "execution_count": 47
        },
        {
          "output_type": "display_data",
          "data": {
            "image/png": "[encoded data removed]",
            "text/plain": [
              "<Figure size 864x504 with 1 Axes>"
            ]
          },
          "metadata": {
            "tags": []
          }
        }
      ]
    },
    {
      "cell_type": "markdown",
      "metadata": {
        "id": "onTgBtqcE2H_"
      },
      "source": [
        "There are more mainstream young singles/couples and retirees. This contributes to to more chips sales in these segments however this is not the major driver for the budget older families segment."
      ]
    },
    {
      "cell_type": "code",
      "metadata": {
        "colab": {
          "base_uri": "https://localhost:8080/",
          "height": 235
        },
        "id": "QcUg-vFgE8KN",
        "outputId": "1b89650b-df1b-488c-8c9b-4da1a0c0bc21"
      },
      "source": [
        "# Average units per customer by PREMIUM_CUSTOMER and LIFESTAGE\r\n",
        "df_ppu = data_new.groupby(['PREMIUM_CUSTOMER', 'LIFESTAGE']).PROD_QTY.sum() / data_new.groupby(['PREMIUM_CUSTOMER', 'LIFESTAGE']).LYLTY_CARD_NBR.nunique()\r\n",
        "df_ppu = pd.DataFrame(df_ppu, columns = {'Average Unit per Customer'})\r\n",
        "df_ppu.sort_values(by = 'Average Unit per Customer', ascending = False).head()"
      ],
      "execution_count": null,
      "outputs": [
        {
          "output_type": "execute_result",
          "data": {
            "text/html": [
              "<div>\n",
              "<style scoped>\n",
              "    .dataframe tbody tr th:only-of-type {\n",
              "        vertical-align: middle;\n",
              "    }\n",
              "\n",
              "    .dataframe tbody tr th {\n",
              "        vertical-align: top;\n",
              "    }\n",
              "\n",
              "    .dataframe thead th {\n",
              "        text-align: right;\n",
              "    }\n",
              "</style>\n",
              "<table border=\"1\" class=\"dataframe\">\n",
              "  <thead>\n",
              "    <tr style=\"text-align: right;\">\n",
              "      <th></th>\n",
              "      <th></th>\n",
              "      <th>Average Unit per Customer</th>\n",
              "    </tr>\n",
              "    <tr>\n",
              "      <th>PREMIUM_CUSTOMER</th>\n",
              "      <th>LIFESTAGE</th>\n",
              "      <th></th>\n",
              "    </tr>\n",
              "  </thead>\n",
              "  <tbody>\n",
              "    <tr>\n",
              "      <th>Mainstream</th>\n",
              "      <th>OLDER FAMILIES</th>\n",
              "      <td>9.804309</td>\n",
              "    </tr>\n",
              "    <tr>\n",
              "      <th>Budget</th>\n",
              "      <th>OLDER FAMILIES</th>\n",
              "      <td>9.639572</td>\n",
              "    </tr>\n",
              "    <tr>\n",
              "      <th>Premium</th>\n",
              "      <th>OLDER FAMILIES</th>\n",
              "      <td>9.578091</td>\n",
              "    </tr>\n",
              "    <tr>\n",
              "      <th>Budget</th>\n",
              "      <th>YOUNG FAMILIES</th>\n",
              "      <td>9.238486</td>\n",
              "    </tr>\n",
              "    <tr>\n",
              "      <th>Premium</th>\n",
              "      <th>YOUNG FAMILIES</th>\n",
              "      <td>9.209207</td>\n",
              "    </tr>\n",
              "  </tbody>\n",
              "</table>\n",
              "</div>"
            ],
            "text/plain": [
              "                                 Average Unit per Customer\n",
              "PREMIUM_CUSTOMER LIFESTAGE                                \n",
              "Mainstream       OLDER FAMILIES                   9.804309\n",
              "Budget           OLDER FAMILIES                   9.639572\n",
              "Premium          OLDER FAMILIES                   9.578091\n",
              "Budget           YOUNG FAMILIES                   9.238486\n",
              "Premium          YOUNG FAMILIES                   9.209207"
            ]
          },
          "metadata": {
            "tags": []
          },
          "execution_count": 48
        }
      ]
    },
    {
      "cell_type": "code",
      "metadata": {
        "colab": {
          "base_uri": "https://localhost:8080/",
          "height": 620
        },
        "id": "HnwSJ5jSGJmB",
        "outputId": "3cea70c0-98c1-4a0a-c05d-27c5262862e6"
      },
      "source": [
        "df_ppu_plot = pd.DataFrame(data_new.groupby(['LIFESTAGE', 'PREMIUM_CUSTOMER']).PROD_QTY.sum() / data_new.groupby(['LIFESTAGE', 'PREMIUM_CUSTOMER']).LYLTY_CARD_NBR.nunique())\r\n",
        "df_ppu_plot.unstack().plot(kind = 'bar', figsize = (12, 7), title = 'Average Unit by Customer Segment')\r\n",
        "plt.ylabel('Average Number of Units')\r\n",
        "plt.legend(['Budget', 'Mainstream', 'Premium'], loc = 2)"
      ],
      "execution_count": null,
      "outputs": [
        {
          "output_type": "execute_result",
          "data": {
            "text/plain": [
              "<matplotlib.legend.Legend at 0x7f449a85fc18>"
            ]
          },
          "metadata": {
            "tags": []
          },
          "execution_count": 49
        },
        {
          "output_type": "display_data",
          "data": {
            "image/png": "[encoded data removed]",
            "text/plain": [
              "<Figure size 864x504 with 1 Axes>"
            ]
          },
          "metadata": {
            "tags": []
          }
        }
      ]
    },
    {
      "cell_type": "markdown",
      "metadata": {
        "id": "jtbiQ1VoGhXI"
      },
      "source": [
        "We can clearly aee that older families and younger families generally buy more chips per customer"
      ]
    },
    {
      "cell_type": "code",
      "metadata": {
        "colab": {
          "base_uri": "https://localhost:8080/",
          "height": 235
        },
        "id": "QqryjCTEGyNa",
        "outputId": "6bb9eb06-463a-4fe2-e14d-742287335f8d"
      },
      "source": [
        "# Average price per unit by PREMIUM_CUSTOMER and LIFESTAGE\r\n",
        "avg_price = data_new.groupby(['PREMIUM_CUSTOMER', 'LIFESTAGE']).TOT_SALES.sum() / data_new.groupby(['PREMIUM_CUSTOMER', 'LIFESTAGE']).PROD_QTY.sum()\r\n",
        "avg_price = pd.DataFrame(avg_price, columns = {'Price per Unit'})\r\n",
        "avg_price.sort_values(by = 'Price per Unit', ascending = False).head()"
      ],
      "execution_count": null,
      "outputs": [
        {
          "output_type": "execute_result",
          "data": {
            "text/html": [
              "<div>\n",
              "<style scoped>\n",
              "    .dataframe tbody tr th:only-of-type {\n",
              "        vertical-align: middle;\n",
              "    }\n",
              "\n",
              "    .dataframe tbody tr th {\n",
              "        vertical-align: top;\n",
              "    }\n",
              "\n",
              "    .dataframe thead th {\n",
              "        text-align: right;\n",
              "    }\n",
              "</style>\n",
              "<table border=\"1\" class=\"dataframe\">\n",
              "  <thead>\n",
              "    <tr style=\"text-align: right;\">\n",
              "      <th></th>\n",
              "      <th></th>\n",
              "      <th>Price per Unit</th>\n",
              "    </tr>\n",
              "    <tr>\n",
              "      <th>PREMIUM_CUSTOMER</th>\n",
              "      <th>LIFESTAGE</th>\n",
              "      <th></th>\n",
              "    </tr>\n",
              "  </thead>\n",
              "  <tbody>\n",
              "    <tr>\n",
              "      <th rowspan=\"3\" valign=\"top\">Mainstream</th>\n",
              "      <th>YOUNG SINGLES/COUPLES</th>\n",
              "      <td>4.080079</td>\n",
              "    </tr>\n",
              "    <tr>\n",
              "      <th>MIDAGE SINGLES/COUPLES</th>\n",
              "      <td>4.000346</td>\n",
              "    </tr>\n",
              "    <tr>\n",
              "      <th>NEW FAMILIES</th>\n",
              "      <td>3.939315</td>\n",
              "    </tr>\n",
              "    <tr>\n",
              "      <th rowspan=\"2\" valign=\"top\">Budget</th>\n",
              "      <th>NEW FAMILIES</th>\n",
              "      <td>3.936178</td>\n",
              "    </tr>\n",
              "    <tr>\n",
              "      <th>RETIREES</th>\n",
              "      <td>3.933660</td>\n",
              "    </tr>\n",
              "  </tbody>\n",
              "</table>\n",
              "</div>"
            ],
            "text/plain": [
              "                                         Price per Unit\n",
              "PREMIUM_CUSTOMER LIFESTAGE                             \n",
              "Mainstream       YOUNG SINGLES/COUPLES         4.080079\n",
              "                 MIDAGE SINGLES/COUPLES        4.000346\n",
              "                 NEW FAMILIES                  3.939315\n",
              "Budget           NEW FAMILIES                  3.936178\n",
              "                 RETIREES                      3.933660"
            ]
          },
          "metadata": {
            "tags": []
          },
          "execution_count": 50
        }
      ]
    },
    {
      "cell_type": "code",
      "metadata": {
        "colab": {
          "base_uri": "https://localhost:8080/",
          "height": 620
        },
        "id": "cLbMbl-nG_57",
        "outputId": "66a21116-f09a-4fe7-8972-e31644196163"
      },
      "source": [
        "avg_price_plot = pd.DataFrame(data_new.groupby(['LIFESTAGE', 'PREMIUM_CUSTOMER']).TOT_SALES.sum() / data_new.groupby(['LIFESTAGE', 'PREMIUM_CUSTOMER']).PROD_QTY.sum())\r\n",
        "avg_price_plot.unstack().plot(kind = 'bar', figsize = (12, 7), title = 'Average Price by Customer Segment', ylim = (0, 6))\r\n",
        "plt.ylabel('Average Price')\r\n",
        "plt.legend(['Budget', 'Mainstream', 'Premium'], loc = 2)"
      ],
      "execution_count": null,
      "outputs": [
        {
          "output_type": "execute_result",
          "data": {
            "text/plain": [
              "<matplotlib.legend.Legend at 0x7f449f480518>"
            ]
          },
          "metadata": {
            "tags": []
          },
          "execution_count": 51
        },
        {
          "output_type": "display_data",
          "data": {
            "image/png": "[encoded data removed]",
            "text/plain": [
              "<Figure size 864x504 with 1 Axes>"
            ]
          },
          "metadata": {
            "tags": []
          }
        }
      ]
    },
    {
      "cell_type": "markdown",
      "metadata": {
        "id": "MP-tzjIHHWJ3"
      },
      "source": [
        "We see that mainstream midage and young singles and couples are more willing to pay more per packet of chips compared to their budget and premium counterparts. This may be due to premium shoppers being more likely to buy healthy snacks and when they do buy chips, it may be mainly for entertainment purposes rather than their own consumption. This is also supported by there being fewer premium midage and young singles and couples buying chips compared to their mainstream counterparts.\r\n",
        "\r\n",
        "---\r\n",
        "\r\n",
        "---\r\n",
        "\r\n",
        "Lets perform an independent t-test between mainstream vs non-mainstream midage and young singles/couples to test this difference\r\n",
        "\r\n",
        "\r\n"
      ]
    },
    {
      "cell_type": "code",
      "metadata": {
        "colab": {
          "base_uri": "https://localhost:8080/",
          "height": 306
        },
        "id": "GjFQvaJ27rNc",
        "outputId": "83d0f3f1-4476-44f2-a293-bc0c9b08aabf"
      },
      "source": [
        "# Create a new dataframe pricePerUnit\r\n",
        "ppu = data_new\r\n",
        "\r\n",
        "# Create a new column under pricePerUnit called PRICE\r\n",
        "ppu['PRICE'] = ppu['TOT_SALES'] / ppu['PROD_QTY']\r\n",
        "\r\n",
        "ppu.head()"
      ],
      "execution_count": null,
      "outputs": [
        {
          "output_type": "execute_result",
          "data": {
            "text/html": [
              "<div>\n",
              "<style scoped>\n",
              "    .dataframe tbody tr th:only-of-type {\n",
              "        vertical-align: middle;\n",
              "    }\n",
              "\n",
              "    .dataframe tbody tr th {\n",
              "        vertical-align: top;\n",
              "    }\n",
              "\n",
              "    .dataframe thead th {\n",
              "        text-align: right;\n",
              "    }\n",
              "</style>\n",
              "<table border=\"1\" class=\"dataframe\">\n",
              "  <thead>\n",
              "    <tr style=\"text-align: right;\">\n",
              "      <th></th>\n",
              "      <th>DATE</th>\n",
              "      <th>STORE_NBR</th>\n",
              "      <th>LYLTY_CARD_NBR</th>\n",
              "      <th>TXN_ID</th>\n",
              "      <th>PROD_NBR</th>\n",
              "      <th>PROD_NAME</th>\n",
              "      <th>PROD_QTY</th>\n",
              "      <th>TOT_SALES</th>\n",
              "      <th>Pack-size</th>\n",
              "      <th>Brand</th>\n",
              "      <th>LIFESTAGE</th>\n",
              "      <th>PREMIUM_CUSTOMER</th>\n",
              "      <th>PRICE</th>\n",
              "    </tr>\n",
              "  </thead>\n",
              "  <tbody>\n",
              "    <tr>\n",
              "      <th>0</th>\n",
              "      <td>2018-10-17</td>\n",
              "      <td>1</td>\n",
              "      <td>1000</td>\n",
              "      <td>1</td>\n",
              "      <td>5</td>\n",
              "      <td>Natural Chip        Compny SeaSalt175g</td>\n",
              "      <td>2</td>\n",
              "      <td>6.0</td>\n",
              "      <td>175</td>\n",
              "      <td>Natural</td>\n",
              "      <td>YOUNG SINGLES/COUPLES</td>\n",
              "      <td>Premium</td>\n",
              "      <td>3.00</td>\n",
              "    </tr>\n",
              "    <tr>\n",
              "      <th>1</th>\n",
              "      <td>2019-05-14</td>\n",
              "      <td>1</td>\n",
              "      <td>1307</td>\n",
              "      <td>348</td>\n",
              "      <td>66</td>\n",
              "      <td>CCs Nacho Cheese    175g</td>\n",
              "      <td>3</td>\n",
              "      <td>6.3</td>\n",
              "      <td>175</td>\n",
              "      <td>CCs</td>\n",
              "      <td>MIDAGE SINGLES/COUPLES</td>\n",
              "      <td>Budget</td>\n",
              "      <td>2.10</td>\n",
              "    </tr>\n",
              "    <tr>\n",
              "      <th>2</th>\n",
              "      <td>2019-05-20</td>\n",
              "      <td>1</td>\n",
              "      <td>1343</td>\n",
              "      <td>383</td>\n",
              "      <td>61</td>\n",
              "      <td>Smiths Crinkle Cut  Chips Chicken 170g</td>\n",
              "      <td>2</td>\n",
              "      <td>2.9</td>\n",
              "      <td>170</td>\n",
              "      <td>Smiths</td>\n",
              "      <td>MIDAGE SINGLES/COUPLES</td>\n",
              "      <td>Budget</td>\n",
              "      <td>1.45</td>\n",
              "    </tr>\n",
              "    <tr>\n",
              "      <th>3</th>\n",
              "      <td>2018-08-17</td>\n",
              "      <td>2</td>\n",
              "      <td>2373</td>\n",
              "      <td>974</td>\n",
              "      <td>69</td>\n",
              "      <td>Smiths Chip Thinly  S/Cream&amp;Onion 175g</td>\n",
              "      <td>5</td>\n",
              "      <td>15.0</td>\n",
              "      <td>175</td>\n",
              "      <td>Smiths</td>\n",
              "      <td>MIDAGE SINGLES/COUPLES</td>\n",
              "      <td>Budget</td>\n",
              "      <td>3.00</td>\n",
              "    </tr>\n",
              "    <tr>\n",
              "      <th>4</th>\n",
              "      <td>2018-08-18</td>\n",
              "      <td>2</td>\n",
              "      <td>2426</td>\n",
              "      <td>1038</td>\n",
              "      <td>108</td>\n",
              "      <td>Kettle Tortilla ChpsHny&amp;Jlpno Chili 150g</td>\n",
              "      <td>3</td>\n",
              "      <td>13.8</td>\n",
              "      <td>150</td>\n",
              "      <td>Kettle</td>\n",
              "      <td>MIDAGE SINGLES/COUPLES</td>\n",
              "      <td>Budget</td>\n",
              "      <td>4.60</td>\n",
              "    </tr>\n",
              "  </tbody>\n",
              "</table>\n",
              "</div>"
            ],
            "text/plain": [
              "        DATE  STORE_NBR  ...  PREMIUM_CUSTOMER  PRICE\n",
              "0 2018-10-17          1  ...           Premium   3.00\n",
              "1 2019-05-14          1  ...            Budget   2.10\n",
              "2 2019-05-20          1  ...            Budget   1.45\n",
              "3 2018-08-17          2  ...            Budget   3.00\n",
              "4 2018-08-18          2  ...            Budget   4.60\n",
              "\n",
              "[5 rows x 13 columns]"
            ]
          },
          "metadata": {
            "tags": []
          },
          "execution_count": 52
        }
      ]
    },
    {
      "cell_type": "code",
      "metadata": {
        "id": "ZCOwAg498a90"
      },
      "source": [
        "# Group the data into mainstream and others\r\n",
        "mainstream = ppu.loc[(ppu['PREMIUM_CUSTOMER'] == 'Mainstream') & ( (ppu['LIFESTAGE'] == 'YOUNG SINGLES/COUPLES') | (ppu['LIFESTAGE'] == 'MIDAGE SINGLES/COUPLES') ), 'PRICE']\r\n",
        "others = ppu.loc[(ppu['PREMIUM_CUSTOMER'] != 'Mainstream') & ( (ppu['LIFESTAGE'] == 'YOUNG SINGLES/COUPLES') | (ppu['LIFESTAGE'] == 'MIDAGE SINGLES/COUPLES') ), 'PRICE']"
      ],
      "execution_count": null,
      "outputs": []
    },
    {
      "cell_type": "code",
      "metadata": {
        "colab": {
          "base_uri": "https://localhost:8080/",
          "height": 356
        },
        "id": "1B83qQy99Ujy",
        "outputId": "ef04e3c4-d9bb-4e96-f5a7-264bca110ccd"
      },
      "source": [
        "# Visualise\r\n",
        "plt.figure(figsize = (10, 5))\r\n",
        "plt.hist(mainstream, label = 'Mainstream')\r\n",
        "plt.hist(others, label = 'Premium & Budget')\r\n",
        "plt.legend()\r\n",
        "plt.xlabel('Price per Unit')"
      ],
      "execution_count": null,
      "outputs": [
        {
          "output_type": "execute_result",
          "data": {
            "text/plain": [
              "Text(0.5, 0, 'Price per Unit')"
            ]
          },
          "metadata": {
            "tags": []
          },
          "execution_count": 55
        },
        {
          "output_type": "display_data",
          "data": {
            "image/png": "[encoded data removed]",
            "text/plain": [
              "<Figure size 720x360 with 1 Axes>"
            ]
          },
          "metadata": {
            "tags": []
          }
        }
      ]
    },
    {
      "cell_type": "code",
      "metadata": {
        "colab": {
          "base_uri": "https://localhost:8080/"
        },
        "id": "vlUKGoaR9k0B",
        "outputId": "f24f5293-6050-4405-9709-08e3941e53fd"
      },
      "source": [
        "print(\"Mainstream average price per unit: ${:.2f}\".format(np.mean(mainstream)))\r\n",
        "print(\"Non-mainstream average price per unit: ${:.2f}\".format(np.mean(others)))\r\n",
        "if np.mean(mainstream) > np.mean(others):\r\n",
        "    print(\"Mainstream customers have higher average price per unit. \")\r\n",
        "else:\r\n",
        "    print(\"Non-mainstream customers have a higher average price per unit. \")"
      ],
      "execution_count": null,
      "outputs": [
        {
          "output_type": "stream",
          "text": [
            "Mainstream average price per unit: $4.05\n",
            "Non-mainstream average price per unit: $3.69\n",
            "Mainstream customers have higher average price per unit. \n"
          ],
          "name": "stdout"
        }
      ]
    },
    {
      "cell_type": "markdown",
      "metadata": {
        "id": "2XolIA3y-Vf0"
      },
      "source": [
        "We can observe that mainstream customers have higher average price per unit than non-mainstream customers.\r\n",
        "\r\n",
        "We have found quite a few interesting insights that we can dive deeper into. For example, we might want to target customers segments that contribute the most to sales to retain them to further increase sales. Let's examine mainstream young singles/couples against the rest of the cutomer segments to see if they prefer any particular brand of chips."
      ]
    },
    {
      "cell_type": "code",
      "metadata": {
        "colab": {
          "base_uri": "https://localhost:8080/",
          "height": 323
        },
        "id": "desGV98_-mlu",
        "outputId": "1d158c6a-a465-4c7f-a7ba-c7e89c32518a"
      },
      "source": [
        "target = data_new.loc[(data_new['LIFESTAGE'] == 'YOUNG SINGLES/COUPLES') & (data_new['PREMIUM_CUSTOMER'] == 'Mainstream'), :]\r\n",
        "nonTarget = data_new.loc[(data_new['LIFESTAGE'] != 'YOUNG SINGLES/COUPLES' ) & (data_new['PREMIUM_CUSTOMER'] != 'Mainstream'), :]\r\n",
        "target.head()"
      ],
      "execution_count": null,
      "outputs": [
        {
          "output_type": "execute_result",
          "data": {
            "text/html": [
              "<div>\n",
              "<style scoped>\n",
              "    .dataframe tbody tr th:only-of-type {\n",
              "        vertical-align: middle;\n",
              "    }\n",
              "\n",
              "    .dataframe tbody tr th {\n",
              "        vertical-align: top;\n",
              "    }\n",
              "\n",
              "    .dataframe thead th {\n",
              "        text-align: right;\n",
              "    }\n",
              "</style>\n",
              "<table border=\"1\" class=\"dataframe\">\n",
              "  <thead>\n",
              "    <tr style=\"text-align: right;\">\n",
              "      <th></th>\n",
              "      <th>DATE</th>\n",
              "      <th>STORE_NBR</th>\n",
              "      <th>LYLTY_CARD_NBR</th>\n",
              "      <th>TXN_ID</th>\n",
              "      <th>PROD_NBR</th>\n",
              "      <th>PROD_NAME</th>\n",
              "      <th>PROD_QTY</th>\n",
              "      <th>TOT_SALES</th>\n",
              "      <th>Pack-size</th>\n",
              "      <th>Brand</th>\n",
              "      <th>LIFESTAGE</th>\n",
              "      <th>PREMIUM_CUSTOMER</th>\n",
              "      <th>PRICE</th>\n",
              "    </tr>\n",
              "  </thead>\n",
              "  <tbody>\n",
              "    <tr>\n",
              "      <th>237700</th>\n",
              "      <td>2018-08-16</td>\n",
              "      <td>1</td>\n",
              "      <td>1020</td>\n",
              "      <td>26</td>\n",
              "      <td>19</td>\n",
              "      <td>Smiths Crinkle Cut  Snag&amp;Sauce 150g</td>\n",
              "      <td>1</td>\n",
              "      <td>2.6</td>\n",
              "      <td>150</td>\n",
              "      <td>Smiths</td>\n",
              "      <td>YOUNG SINGLES/COUPLES</td>\n",
              "      <td>Mainstream</td>\n",
              "      <td>2.6</td>\n",
              "    </tr>\n",
              "    <tr>\n",
              "      <th>237701</th>\n",
              "      <td>2018-08-17</td>\n",
              "      <td>1</td>\n",
              "      <td>1163</td>\n",
              "      <td>188</td>\n",
              "      <td>46</td>\n",
              "      <td>Kettle Original 175g</td>\n",
              "      <td>1</td>\n",
              "      <td>5.4</td>\n",
              "      <td>175</td>\n",
              "      <td>Kettle</td>\n",
              "      <td>YOUNG SINGLES/COUPLES</td>\n",
              "      <td>Mainstream</td>\n",
              "      <td>5.4</td>\n",
              "    </tr>\n",
              "    <tr>\n",
              "      <th>237702</th>\n",
              "      <td>2018-08-14</td>\n",
              "      <td>1</td>\n",
              "      <td>1291</td>\n",
              "      <td>333</td>\n",
              "      <td>27</td>\n",
              "      <td>WW Supreme Cheese   Corn Chips 200g</td>\n",
              "      <td>1</td>\n",
              "      <td>1.9</td>\n",
              "      <td>200</td>\n",
              "      <td>Woolworths</td>\n",
              "      <td>YOUNG SINGLES/COUPLES</td>\n",
              "      <td>Mainstream</td>\n",
              "      <td>1.9</td>\n",
              "    </tr>\n",
              "    <tr>\n",
              "      <th>237703</th>\n",
              "      <td>2019-05-15</td>\n",
              "      <td>3</td>\n",
              "      <td>3031</td>\n",
              "      <td>1227</td>\n",
              "      <td>14</td>\n",
              "      <td>Smiths Crnkle Chip  Orgnl Big Bag 380g</td>\n",
              "      <td>1</td>\n",
              "      <td>5.9</td>\n",
              "      <td>380</td>\n",
              "      <td>Smiths</td>\n",
              "      <td>YOUNG SINGLES/COUPLES</td>\n",
              "      <td>Mainstream</td>\n",
              "      <td>5.9</td>\n",
              "    </tr>\n",
              "    <tr>\n",
              "      <th>237704</th>\n",
              "      <td>2019-05-18</td>\n",
              "      <td>3</td>\n",
              "      <td>3118</td>\n",
              "      <td>1574</td>\n",
              "      <td>62</td>\n",
              "      <td>Pringles Mystery    Flavour 134g</td>\n",
              "      <td>1</td>\n",
              "      <td>3.7</td>\n",
              "      <td>134</td>\n",
              "      <td>Pringles</td>\n",
              "      <td>YOUNG SINGLES/COUPLES</td>\n",
              "      <td>Mainstream</td>\n",
              "      <td>3.7</td>\n",
              "    </tr>\n",
              "  </tbody>\n",
              "</table>\n",
              "</div>"
            ],
            "text/plain": [
              "             DATE  STORE_NBR  ...  PREMIUM_CUSTOMER  PRICE\n",
              "237700 2018-08-16          1  ...        Mainstream    2.6\n",
              "237701 2018-08-17          1  ...        Mainstream    5.4\n",
              "237702 2018-08-14          1  ...        Mainstream    1.9\n",
              "237703 2019-05-15          3  ...        Mainstream    5.9\n",
              "237704 2019-05-18          3  ...        Mainstream    3.7\n",
              "\n",
              "[5 rows x 13 columns]"
            ]
          },
          "metadata": {
            "tags": []
          },
          "execution_count": 59
        }
      ]
    },
    {
      "cell_type": "code",
      "metadata": {
        "colab": {
          "base_uri": "https://localhost:8080/",
          "height": 306
        },
        "id": "JEI8j_4d-9yv",
        "outputId": "9269d662-47ff-4c6b-fce9-6de8efcb95d2"
      },
      "source": [
        "nonTarget.head()"
      ],
      "execution_count": null,
      "outputs": [
        {
          "output_type": "execute_result",
          "data": {
            "text/html": [
              "<div>\n",
              "<style scoped>\n",
              "    .dataframe tbody tr th:only-of-type {\n",
              "        vertical-align: middle;\n",
              "    }\n",
              "\n",
              "    .dataframe tbody tr th {\n",
              "        vertical-align: top;\n",
              "    }\n",
              "\n",
              "    .dataframe thead th {\n",
              "        text-align: right;\n",
              "    }\n",
              "</style>\n",
              "<table border=\"1\" class=\"dataframe\">\n",
              "  <thead>\n",
              "    <tr style=\"text-align: right;\">\n",
              "      <th></th>\n",
              "      <th>DATE</th>\n",
              "      <th>STORE_NBR</th>\n",
              "      <th>LYLTY_CARD_NBR</th>\n",
              "      <th>TXN_ID</th>\n",
              "      <th>PROD_NBR</th>\n",
              "      <th>PROD_NAME</th>\n",
              "      <th>PROD_QTY</th>\n",
              "      <th>TOT_SALES</th>\n",
              "      <th>Pack-size</th>\n",
              "      <th>Brand</th>\n",
              "      <th>LIFESTAGE</th>\n",
              "      <th>PREMIUM_CUSTOMER</th>\n",
              "      <th>PRICE</th>\n",
              "    </tr>\n",
              "  </thead>\n",
              "  <tbody>\n",
              "    <tr>\n",
              "      <th>1</th>\n",
              "      <td>2019-05-14</td>\n",
              "      <td>1</td>\n",
              "      <td>1307</td>\n",
              "      <td>348</td>\n",
              "      <td>66</td>\n",
              "      <td>CCs Nacho Cheese    175g</td>\n",
              "      <td>3</td>\n",
              "      <td>6.3</td>\n",
              "      <td>175</td>\n",
              "      <td>CCs</td>\n",
              "      <td>MIDAGE SINGLES/COUPLES</td>\n",
              "      <td>Budget</td>\n",
              "      <td>2.10</td>\n",
              "    </tr>\n",
              "    <tr>\n",
              "      <th>2</th>\n",
              "      <td>2019-05-20</td>\n",
              "      <td>1</td>\n",
              "      <td>1343</td>\n",
              "      <td>383</td>\n",
              "      <td>61</td>\n",
              "      <td>Smiths Crinkle Cut  Chips Chicken 170g</td>\n",
              "      <td>2</td>\n",
              "      <td>2.9</td>\n",
              "      <td>170</td>\n",
              "      <td>Smiths</td>\n",
              "      <td>MIDAGE SINGLES/COUPLES</td>\n",
              "      <td>Budget</td>\n",
              "      <td>1.45</td>\n",
              "    </tr>\n",
              "    <tr>\n",
              "      <th>3</th>\n",
              "      <td>2018-08-17</td>\n",
              "      <td>2</td>\n",
              "      <td>2373</td>\n",
              "      <td>974</td>\n",
              "      <td>69</td>\n",
              "      <td>Smiths Chip Thinly  S/Cream&amp;Onion 175g</td>\n",
              "      <td>5</td>\n",
              "      <td>15.0</td>\n",
              "      <td>175</td>\n",
              "      <td>Smiths</td>\n",
              "      <td>MIDAGE SINGLES/COUPLES</td>\n",
              "      <td>Budget</td>\n",
              "      <td>3.00</td>\n",
              "    </tr>\n",
              "    <tr>\n",
              "      <th>4</th>\n",
              "      <td>2018-08-18</td>\n",
              "      <td>2</td>\n",
              "      <td>2426</td>\n",
              "      <td>1038</td>\n",
              "      <td>108</td>\n",
              "      <td>Kettle Tortilla ChpsHny&amp;Jlpno Chili 150g</td>\n",
              "      <td>3</td>\n",
              "      <td>13.8</td>\n",
              "      <td>150</td>\n",
              "      <td>Kettle</td>\n",
              "      <td>MIDAGE SINGLES/COUPLES</td>\n",
              "      <td>Budget</td>\n",
              "      <td>4.60</td>\n",
              "    </tr>\n",
              "    <tr>\n",
              "      <th>5</th>\n",
              "      <td>2019-05-19</td>\n",
              "      <td>4</td>\n",
              "      <td>4074</td>\n",
              "      <td>2982</td>\n",
              "      <td>57</td>\n",
              "      <td>Old El Paso Salsa   Dip Tomato Mild 300g</td>\n",
              "      <td>1</td>\n",
              "      <td>5.1</td>\n",
              "      <td>300</td>\n",
              "      <td>Old</td>\n",
              "      <td>MIDAGE SINGLES/COUPLES</td>\n",
              "      <td>Budget</td>\n",
              "      <td>5.10</td>\n",
              "    </tr>\n",
              "  </tbody>\n",
              "</table>\n",
              "</div>"
            ],
            "text/plain": [
              "        DATE  STORE_NBR  ...  PREMIUM_CUSTOMER  PRICE\n",
              "1 2019-05-14          1  ...            Budget   2.10\n",
              "2 2019-05-20          1  ...            Budget   1.45\n",
              "3 2018-08-17          2  ...            Budget   3.00\n",
              "4 2018-08-18          2  ...            Budget   4.60\n",
              "5 2019-05-19          4  ...            Budget   5.10\n",
              "\n",
              "[5 rows x 13 columns]"
            ]
          },
          "metadata": {
            "tags": []
          },
          "execution_count": 60
        }
      ]
    },
    {
      "cell_type": "markdown",
      "metadata": {
        "id": "Cx0rOna7_GBe"
      },
      "source": [
        "**Affinity to brand**\r\n",
        "*************************"
      ]
    },
    {
      "cell_type": "code",
      "metadata": {
        "id": "REam__Z__W4Y"
      },
      "source": [
        "# Target Segment\r\n",
        "targetBrand = target.loc[:, ['Brand', 'PROD_QTY']]\r\n",
        "targetSum = targetBrand['PROD_QTY'].sum()\r\n",
        "targetBrand['Target Brand Affinity'] = targetBrand['PROD_QTY'] / targetSum\r\n",
        "targetBrand = pd.DataFrame(targetBrand.groupby('Brand')['Target Brand Affinity'].sum())\r\n",
        "\r\n",
        "# Non-target segment\r\n",
        "nonTargetBrand = nonTarget.loc[:, ['Brand', 'PROD_QTY']]\r\n",
        "nonTargetSum = nonTargetBrand['PROD_QTY'].sum()\r\n",
        "nonTargetBrand['Non-Target Brand Affinity'] = nonTargetBrand['PROD_QTY'] / nonTargetSum\r\n",
        "nonTargetBrand = pd.DataFrame(nonTargetBrand.groupby('Brand')['Non-Target Brand Affinity'].sum())"
      ],
      "execution_count": null,
      "outputs": []
    },
    {
      "cell_type": "code",
      "metadata": {
        "colab": {
          "base_uri": "https://localhost:8080/",
          "height": 235
        },
        "id": "L3GuMIvoBTNK",
        "outputId": "4bbd015e-3e97-452f-9043-039165e8b482"
      },
      "source": [
        "# Merge the two dataframes together\r\n",
        "brand_proportions = pd.merge(targetBrand, nonTargetBrand, left_index = True, right_index = True)\r\n",
        "brand_proportions.head()"
      ],
      "execution_count": null,
      "outputs": [
        {
          "output_type": "execute_result",
          "data": {
            "text/html": [
              "<div>\n",
              "<style scoped>\n",
              "    .dataframe tbody tr th:only-of-type {\n",
              "        vertical-align: middle;\n",
              "    }\n",
              "\n",
              "    .dataframe tbody tr th {\n",
              "        vertical-align: top;\n",
              "    }\n",
              "\n",
              "    .dataframe thead th {\n",
              "        text-align: right;\n",
              "    }\n",
              "</style>\n",
              "<table border=\"1\" class=\"dataframe\">\n",
              "  <thead>\n",
              "    <tr style=\"text-align: right;\">\n",
              "      <th></th>\n",
              "      <th>Target Brand Affinity</th>\n",
              "      <th>Non-Target Brand Affinity</th>\n",
              "    </tr>\n",
              "    <tr>\n",
              "      <th>Brand</th>\n",
              "      <th></th>\n",
              "      <th></th>\n",
              "    </tr>\n",
              "  </thead>\n",
              "  <tbody>\n",
              "    <tr>\n",
              "      <th>Burger</th>\n",
              "      <td>0.002744</td>\n",
              "      <td>0.006094</td>\n",
              "    </tr>\n",
              "    <tr>\n",
              "      <th>CCs</th>\n",
              "      <td>0.010484</td>\n",
              "      <td>0.017191</td>\n",
              "    </tr>\n",
              "    <tr>\n",
              "      <th>Cheetos</th>\n",
              "      <td>0.007533</td>\n",
              "      <td>0.010960</td>\n",
              "    </tr>\n",
              "    <tr>\n",
              "      <th>Cheezels</th>\n",
              "      <td>0.016851</td>\n",
              "      <td>0.017619</td>\n",
              "    </tr>\n",
              "    <tr>\n",
              "      <th>Cobs</th>\n",
              "      <td>0.041856</td>\n",
              "      <td>0.035836</td>\n",
              "    </tr>\n",
              "  </tbody>\n",
              "</table>\n",
              "</div>"
            ],
            "text/plain": [
              "          Target Brand Affinity  Non-Target Brand Affinity\n",
              "Brand                                                     \n",
              "Burger                 0.002744                   0.006094\n",
              "CCs                    0.010484                   0.017191\n",
              "Cheetos                0.007533                   0.010960\n",
              "Cheezels               0.016851                   0.017619\n",
              "Cobs                   0.041856                   0.035836"
            ]
          },
          "metadata": {
            "tags": []
          },
          "execution_count": 67
        }
      ]
    },
    {
      "cell_type": "code",
      "metadata": {
        "colab": {
          "base_uri": "https://localhost:8080/",
          "height": 731
        },
        "id": "Agdf2shrBfDi",
        "outputId": "33676d51-6d84-4e62-a52f-b96684230be7"
      },
      "source": [
        "brand_proportions['Affinity to Brand'] = brand_proportions['Target Brand Affinity'] / brand_proportions['Non-Target Brand Affinity']\r\n",
        "brand_proportions.sort_values(by = 'Affinity to Brand', ascending = False)"
      ],
      "execution_count": null,
      "outputs": [
        {
          "output_type": "execute_result",
          "data": {
            "text/html": [
              "<div>\n",
              "<style scoped>\n",
              "    .dataframe tbody tr th:only-of-type {\n",
              "        vertical-align: middle;\n",
              "    }\n",
              "\n",
              "    .dataframe tbody tr th {\n",
              "        vertical-align: top;\n",
              "    }\n",
              "\n",
              "    .dataframe thead th {\n",
              "        text-align: right;\n",
              "    }\n",
              "</style>\n",
              "<table border=\"1\" class=\"dataframe\">\n",
              "  <thead>\n",
              "    <tr style=\"text-align: right;\">\n",
              "      <th></th>\n",
              "      <th>Target Brand Affinity</th>\n",
              "      <th>Non-Target Brand Affinity</th>\n",
              "      <th>Affinity to Brand</th>\n",
              "    </tr>\n",
              "    <tr>\n",
              "      <th>Brand</th>\n",
              "      <th></th>\n",
              "      <th></th>\n",
              "      <th></th>\n",
              "    </tr>\n",
              "  </thead>\n",
              "  <tbody>\n",
              "    <tr>\n",
              "      <th>Tyrrells</th>\n",
              "      <td>0.029587</td>\n",
              "      <td>0.023968</td>\n",
              "      <td>1.234454</td>\n",
              "    </tr>\n",
              "    <tr>\n",
              "      <th>Twisties</th>\n",
              "      <td>0.043306</td>\n",
              "      <td>0.035355</td>\n",
              "      <td>1.224877</td>\n",
              "    </tr>\n",
              "    <tr>\n",
              "      <th>Kettle</th>\n",
              "      <td>0.185649</td>\n",
              "      <td>0.155243</td>\n",
              "      <td>1.195863</td>\n",
              "    </tr>\n",
              "    <tr>\n",
              "      <th>Tostitos</th>\n",
              "      <td>0.042581</td>\n",
              "      <td>0.035744</td>\n",
              "      <td>1.191269</td>\n",
              "    </tr>\n",
              "    <tr>\n",
              "      <th>Old</th>\n",
              "      <td>0.041598</td>\n",
              "      <td>0.034931</td>\n",
              "      <td>1.190850</td>\n",
              "    </tr>\n",
              "    <tr>\n",
              "      <th>Pringles</th>\n",
              "      <td>0.111980</td>\n",
              "      <td>0.094240</td>\n",
              "      <td>1.188241</td>\n",
              "    </tr>\n",
              "    <tr>\n",
              "      <th>Cobs</th>\n",
              "      <td>0.041856</td>\n",
              "      <td>0.035836</td>\n",
              "      <td>1.167987</td>\n",
              "    </tr>\n",
              "    <tr>\n",
              "      <th>Doritos</th>\n",
              "      <td>0.122877</td>\n",
              "      <td>0.105278</td>\n",
              "      <td>1.167174</td>\n",
              "    </tr>\n",
              "    <tr>\n",
              "      <th>Infuzions</th>\n",
              "      <td>0.060649</td>\n",
              "      <td>0.053509</td>\n",
              "      <td>1.133443</td>\n",
              "    </tr>\n",
              "    <tr>\n",
              "      <th>Thins</th>\n",
              "      <td>0.056611</td>\n",
              "      <td>0.053275</td>\n",
              "      <td>1.062612</td>\n",
              "    </tr>\n",
              "    <tr>\n",
              "      <th>Grain</th>\n",
              "      <td>0.030674</td>\n",
              "      <td>0.028958</td>\n",
              "      <td>1.059270</td>\n",
              "    </tr>\n",
              "    <tr>\n",
              "      <th>Cheezels</th>\n",
              "      <td>0.016851</td>\n",
              "      <td>0.017619</td>\n",
              "      <td>0.956409</td>\n",
              "    </tr>\n",
              "    <tr>\n",
              "      <th>Smiths</th>\n",
              "      <td>0.093420</td>\n",
              "      <td>0.121327</td>\n",
              "      <td>0.769986</td>\n",
              "    </tr>\n",
              "    <tr>\n",
              "      <th>French</th>\n",
              "      <td>0.003702</td>\n",
              "      <td>0.005319</td>\n",
              "      <td>0.695912</td>\n",
              "    </tr>\n",
              "    <tr>\n",
              "      <th>Cheetos</th>\n",
              "      <td>0.007533</td>\n",
              "      <td>0.010960</td>\n",
              "      <td>0.687286</td>\n",
              "    </tr>\n",
              "    <tr>\n",
              "      <th>Red</th>\n",
              "      <td>0.045377</td>\n",
              "      <td>0.068310</td>\n",
              "      <td>0.664283</td>\n",
              "    </tr>\n",
              "    <tr>\n",
              "      <th>Natural</th>\n",
              "      <td>0.018379</td>\n",
              "      <td>0.028855</td>\n",
              "      <td>0.636924</td>\n",
              "    </tr>\n",
              "    <tr>\n",
              "      <th>CCs</th>\n",
              "      <td>0.010484</td>\n",
              "      <td>0.017191</td>\n",
              "      <td>0.609811</td>\n",
              "    </tr>\n",
              "    <tr>\n",
              "      <th>Sunbites</th>\n",
              "      <td>0.005954</td>\n",
              "      <td>0.011756</td>\n",
              "      <td>0.506446</td>\n",
              "    </tr>\n",
              "    <tr>\n",
              "      <th>Woolworths</th>\n",
              "      <td>0.028189</td>\n",
              "      <td>0.056232</td>\n",
              "      <td>0.501299</td>\n",
              "    </tr>\n",
              "    <tr>\n",
              "      <th>Burger</th>\n",
              "      <td>0.002744</td>\n",
              "      <td>0.006094</td>\n",
              "      <td>0.450284</td>\n",
              "    </tr>\n",
              "  </tbody>\n",
              "</table>\n",
              "</div>"
            ],
            "text/plain": [
              "            Target Brand Affinity  Non-Target Brand Affinity  Affinity to Brand\n",
              "Brand                                                                          \n",
              "Tyrrells                 0.029587                   0.023968           1.234454\n",
              "Twisties                 0.043306                   0.035355           1.224877\n",
              "Kettle                   0.185649                   0.155243           1.195863\n",
              "Tostitos                 0.042581                   0.035744           1.191269\n",
              "Old                      0.041598                   0.034931           1.190850\n",
              "Pringles                 0.111980                   0.094240           1.188241\n",
              "Cobs                     0.041856                   0.035836           1.167987\n",
              "Doritos                  0.122877                   0.105278           1.167174\n",
              "Infuzions                0.060649                   0.053509           1.133443\n",
              "Thins                    0.056611                   0.053275           1.062612\n",
              "Grain                    0.030674                   0.028958           1.059270\n",
              "Cheezels                 0.016851                   0.017619           0.956409\n",
              "Smiths                   0.093420                   0.121327           0.769986\n",
              "French                   0.003702                   0.005319           0.695912\n",
              "Cheetos                  0.007533                   0.010960           0.687286\n",
              "Red                      0.045377                   0.068310           0.664283\n",
              "Natural                  0.018379                   0.028855           0.636924\n",
              "CCs                      0.010484                   0.017191           0.609811\n",
              "Sunbites                 0.005954                   0.011756           0.506446\n",
              "Woolworths               0.028189                   0.056232           0.501299\n",
              "Burger                   0.002744                   0.006094           0.450284"
            ]
          },
          "metadata": {
            "tags": []
          },
          "execution_count": 68
        }
      ]
    },
    {
      "cell_type": "markdown",
      "metadata": {
        "id": "mQeeCC4_Bp_y"
      },
      "source": [
        "Looks like, mainstream young singles/couples are more likely to purchase Tyrrell followed by Twisties chips compared to other brands.\r\n",
        "\r\n",
        "---\r\n",
        "\r\n",
        "---\r\n",
        "\r\n",
        "---\r\n",
        "\r\n",
        "\r\n",
        "\r\n",
        "\r\n",
        "\r\n"
      ]
    },
    {
      "cell_type": "markdown",
      "metadata": {
        "id": "rGLyvbmNB1N_"
      },
      "source": [
        "Pack Size\r\n",
        "\r\n",
        "\r\n",
        "---\r\n",
        "\r\n",
        "\r\n",
        "\r\n"
      ]
    },
    {
      "cell_type": "code",
      "metadata": {
        "colab": {
          "base_uri": "https://localhost:8080/",
          "height": 235
        },
        "id": "nGUgXN2PB0zt",
        "outputId": "fa5de32b-6421-4164-c0f5-c8dfecbce825"
      },
      "source": [
        "# Target segment \r\n",
        "targetSize = target.loc[:, ['Pack-size', 'PROD_QTY']]\r\n",
        "targetSum = targetSize['PROD_QTY'].sum()\r\n",
        "targetSize['Target Pack Affinity'] = targetSize['PROD_QTY'] / targetSum\r\n",
        "targetSize = pd.DataFrame(targetSize.groupby('Pack-size')['Target Pack Affinity'].sum())\r\n",
        "\r\n",
        "# Non-target segment\r\n",
        "nonTargetSize = nonTarget.loc[:, ['Pack-size', 'PROD_QTY']]\r\n",
        "nonTargetSum = nonTargetSize['PROD_QTY'].sum()\r\n",
        "nonTargetSize['Non-Target Pack Affinity'] = nonTargetSize['PROD_QTY'] / nonTargetSum\r\n",
        "nonTargetSize = pd.DataFrame(nonTargetSize.groupby('Pack-size')['Non-Target Pack Affinity'].sum())\r\n",
        "\r\n",
        "# Merge the two dataframes together\r\n",
        "pack_proportions = pd.merge(targetSize, nonTargetSize, left_index = True, right_index = True)\r\n",
        "pack_proportions.head()"
      ],
      "execution_count": null,
      "outputs": [
        {
          "output_type": "execute_result",
          "data": {
            "text/html": [
              "<div>\n",
              "<style scoped>\n",
              "    .dataframe tbody tr th:only-of-type {\n",
              "        vertical-align: middle;\n",
              "    }\n",
              "\n",
              "    .dataframe tbody tr th {\n",
              "        vertical-align: top;\n",
              "    }\n",
              "\n",
              "    .dataframe thead th {\n",
              "        text-align: right;\n",
              "    }\n",
              "</style>\n",
              "<table border=\"1\" class=\"dataframe\">\n",
              "  <thead>\n",
              "    <tr style=\"text-align: right;\">\n",
              "      <th></th>\n",
              "      <th>Target Pack Affinity</th>\n",
              "      <th>Non-Target Pack Affinity</th>\n",
              "    </tr>\n",
              "    <tr>\n",
              "      <th>Pack-size</th>\n",
              "      <th></th>\n",
              "      <th></th>\n",
              "    </tr>\n",
              "  </thead>\n",
              "  <tbody>\n",
              "    <tr>\n",
              "      <th>70</th>\n",
              "      <td>0.002847</td>\n",
              "      <td>0.005857</td>\n",
              "    </tr>\n",
              "    <tr>\n",
              "      <th>90</th>\n",
              "      <td>0.005954</td>\n",
              "      <td>0.011756</td>\n",
              "    </tr>\n",
              "    <tr>\n",
              "      <th>110</th>\n",
              "      <td>0.099658</td>\n",
              "      <td>0.083489</td>\n",
              "    </tr>\n",
              "    <tr>\n",
              "      <th>125</th>\n",
              "      <td>0.002821</td>\n",
              "      <td>0.005570</td>\n",
              "    </tr>\n",
              "    <tr>\n",
              "      <th>134</th>\n",
              "      <td>0.111980</td>\n",
              "      <td>0.094240</td>\n",
              "    </tr>\n",
              "  </tbody>\n",
              "</table>\n",
              "</div>"
            ],
            "text/plain": [
              "           Target Pack Affinity  Non-Target Pack Affinity\n",
              "Pack-size                                                \n",
              "70                     0.002847                  0.005857\n",
              "90                     0.005954                  0.011756\n",
              "110                    0.099658                  0.083489\n",
              "125                    0.002821                  0.005570\n",
              "134                    0.111980                  0.094240"
            ]
          },
          "metadata": {
            "tags": []
          },
          "execution_count": 70
        }
      ]
    },
    {
      "cell_type": "code",
      "metadata": {
        "colab": {
          "base_uri": "https://localhost:8080/",
          "height": 731
        },
        "id": "oE0OoJpcCsrr",
        "outputId": "5eb5c909-1987-4d59-c35a-e9651fc70327"
      },
      "source": [
        "pack_proportions['Affinity to Pack'] = pack_proportions['Target Pack Affinity'] / pack_proportions['Non-Target Pack Affinity']\r\n",
        "pack_proportions.sort_values(by = 'Affinity to Pack', ascending = False)"
      ],
      "execution_count": null,
      "outputs": [
        {
          "output_type": "execute_result",
          "data": {
            "text/html": [
              "<div>\n",
              "<style scoped>\n",
              "    .dataframe tbody tr th:only-of-type {\n",
              "        vertical-align: middle;\n",
              "    }\n",
              "\n",
              "    .dataframe tbody tr th {\n",
              "        vertical-align: top;\n",
              "    }\n",
              "\n",
              "    .dataframe thead th {\n",
              "        text-align: right;\n",
              "    }\n",
              "</style>\n",
              "<table border=\"1\" class=\"dataframe\">\n",
              "  <thead>\n",
              "    <tr style=\"text-align: right;\">\n",
              "      <th></th>\n",
              "      <th>Target Pack Affinity</th>\n",
              "      <th>Non-Target Pack Affinity</th>\n",
              "      <th>Affinity to Pack</th>\n",
              "    </tr>\n",
              "    <tr>\n",
              "      <th>Pack-size</th>\n",
              "      <th></th>\n",
              "      <th></th>\n",
              "      <th></th>\n",
              "    </tr>\n",
              "  </thead>\n",
              "  <tbody>\n",
              "    <tr>\n",
              "      <th>270</th>\n",
              "      <td>0.029846</td>\n",
              "      <td>0.023366</td>\n",
              "      <td>1.277295</td>\n",
              "    </tr>\n",
              "    <tr>\n",
              "      <th>380</th>\n",
              "      <td>0.030156</td>\n",
              "      <td>0.023964</td>\n",
              "      <td>1.258400</td>\n",
              "    </tr>\n",
              "    <tr>\n",
              "      <th>330</th>\n",
              "      <td>0.057465</td>\n",
              "      <td>0.047511</td>\n",
              "      <td>1.209522</td>\n",
              "    </tr>\n",
              "    <tr>\n",
              "      <th>110</th>\n",
              "      <td>0.099658</td>\n",
              "      <td>0.083489</td>\n",
              "      <td>1.193675</td>\n",
              "    </tr>\n",
              "    <tr>\n",
              "      <th>134</th>\n",
              "      <td>0.111980</td>\n",
              "      <td>0.094240</td>\n",
              "      <td>1.188241</td>\n",
              "    </tr>\n",
              "    <tr>\n",
              "      <th>210</th>\n",
              "      <td>0.027309</td>\n",
              "      <td>0.023200</td>\n",
              "      <td>1.177104</td>\n",
              "    </tr>\n",
              "    <tr>\n",
              "      <th>135</th>\n",
              "      <td>0.013849</td>\n",
              "      <td>0.012053</td>\n",
              "      <td>1.149001</td>\n",
              "    </tr>\n",
              "    <tr>\n",
              "      <th>250</th>\n",
              "      <td>0.013460</td>\n",
              "      <td>0.011989</td>\n",
              "      <td>1.122716</td>\n",
              "    </tr>\n",
              "    <tr>\n",
              "      <th>170</th>\n",
              "      <td>0.075740</td>\n",
              "      <td>0.074888</td>\n",
              "      <td>1.011386</td>\n",
              "    </tr>\n",
              "    <tr>\n",
              "      <th>300</th>\n",
              "      <td>0.054954</td>\n",
              "      <td>0.056709</td>\n",
              "      <td>0.969052</td>\n",
              "    </tr>\n",
              "    <tr>\n",
              "      <th>150</th>\n",
              "      <td>0.155130</td>\n",
              "      <td>0.163228</td>\n",
              "      <td>0.950388</td>\n",
              "    </tr>\n",
              "    <tr>\n",
              "      <th>175</th>\n",
              "      <td>0.239102</td>\n",
              "      <td>0.253012</td>\n",
              "      <td>0.945022</td>\n",
              "    </tr>\n",
              "    <tr>\n",
              "      <th>165</th>\n",
              "      <td>0.052185</td>\n",
              "      <td>0.057403</td>\n",
              "      <td>0.909100</td>\n",
              "    </tr>\n",
              "    <tr>\n",
              "      <th>190</th>\n",
              "      <td>0.007015</td>\n",
              "      <td>0.011307</td>\n",
              "      <td>0.620430</td>\n",
              "    </tr>\n",
              "    <tr>\n",
              "      <th>180</th>\n",
              "      <td>0.003365</td>\n",
              "      <td>0.005758</td>\n",
              "      <td>0.584460</td>\n",
              "    </tr>\n",
              "    <tr>\n",
              "      <th>160</th>\n",
              "      <td>0.006005</td>\n",
              "      <td>0.011391</td>\n",
              "      <td>0.527185</td>\n",
              "    </tr>\n",
              "    <tr>\n",
              "      <th>125</th>\n",
              "      <td>0.002821</td>\n",
              "      <td>0.005570</td>\n",
              "      <td>0.506538</td>\n",
              "    </tr>\n",
              "    <tr>\n",
              "      <th>90</th>\n",
              "      <td>0.005954</td>\n",
              "      <td>0.011756</td>\n",
              "      <td>0.506446</td>\n",
              "    </tr>\n",
              "    <tr>\n",
              "      <th>200</th>\n",
              "      <td>0.008413</td>\n",
              "      <td>0.017216</td>\n",
              "      <td>0.488651</td>\n",
              "    </tr>\n",
              "    <tr>\n",
              "      <th>70</th>\n",
              "      <td>0.002847</td>\n",
              "      <td>0.005857</td>\n",
              "      <td>0.486182</td>\n",
              "    </tr>\n",
              "    <tr>\n",
              "      <th>220</th>\n",
              "      <td>0.002744</td>\n",
              "      <td>0.006094</td>\n",
              "      <td>0.450284</td>\n",
              "    </tr>\n",
              "  </tbody>\n",
              "</table>\n",
              "</div>"
            ],
            "text/plain": [
              "           Target Pack Affinity  Non-Target Pack Affinity  Affinity to Pack\n",
              "Pack-size                                                                  \n",
              "270                    0.029846                  0.023366          1.277295\n",
              "380                    0.030156                  0.023964          1.258400\n",
              "330                    0.057465                  0.047511          1.209522\n",
              "110                    0.099658                  0.083489          1.193675\n",
              "134                    0.111980                  0.094240          1.188241\n",
              "210                    0.027309                  0.023200          1.177104\n",
              "135                    0.013849                  0.012053          1.149001\n",
              "250                    0.013460                  0.011989          1.122716\n",
              "170                    0.075740                  0.074888          1.011386\n",
              "300                    0.054954                  0.056709          0.969052\n",
              "150                    0.155130                  0.163228          0.950388\n",
              "175                    0.239102                  0.253012          0.945022\n",
              "165                    0.052185                  0.057403          0.909100\n",
              "190                    0.007015                  0.011307          0.620430\n",
              "180                    0.003365                  0.005758          0.584460\n",
              "160                    0.006005                  0.011391          0.527185\n",
              "125                    0.002821                  0.005570          0.506538\n",
              "90                     0.005954                  0.011756          0.506446\n",
              "200                    0.008413                  0.017216          0.488651\n",
              "70                     0.002847                  0.005857          0.486182\n",
              "220                    0.002744                  0.006094          0.450284"
            ]
          },
          "metadata": {
            "tags": []
          },
          "execution_count": 71
        }
      ]
    },
    {
      "cell_type": "code",
      "metadata": {
        "colab": {
          "base_uri": "https://localhost:8080/"
        },
        "id": "mLYC2W9uDL2h",
        "outputId": "b6535993-66e9-4860-a617-9766fe91144f"
      },
      "source": [
        "# Find brands that offers 270g pack size\r\n",
        "data_new.loc[data_new['Pack-size'] == 270, 'Brand'].unique()"
      ],
      "execution_count": null,
      "outputs": [
        {
          "output_type": "execute_result",
          "data": {
            "text/plain": [
              "array(['Twisties'], dtype=object)"
            ]
          },
          "metadata": {
            "tags": []
          },
          "execution_count": 76
        }
      ]
    },
    {
      "cell_type": "markdown",
      "metadata": {
        "id": "-lRAXklZD-J-"
      },
      "source": [
        "Twisties is the only brand that offers 270g pack size."
      ]
    },
    {
      "cell_type": "markdown",
      "metadata": {
        "id": "0W4eSQnhdu3e"
      },
      "source": [
        "# Conclusion\r\n",
        "*************************************************************************************************************************************************************************************\r\n",
        "\r\n",
        "After all our preliminary analysis done above, we might be able to conclude(as for now), that \r\n",
        "\r\n",
        "*   more focus should be given to the Mainstream customers, \r\n",
        "specifically the YOUNG SINGLES and COUPLES. This can be also followed by the OLD customers, specifically the RETIREES.\r\n",
        "*   Sales are highest for Budget, OLDER FAMILIES; Mainstream, YOUNG SINGLES/COUPLES and Mainstream, RETIREES\r\n",
        "*   Mainstream, YOUNG SINGLES/COUPLES are more likely to pay more per packet of chips than their premium and budget counterparts\r\n",
        "*   They are also more likely to purchase 'Tyrrells'/'Twisties' and '270g' pack sizes than the rest of the population\r\n",
        "\r\n",
        "\r\n",
        "\r\n"
      ]
    }
  ]
}